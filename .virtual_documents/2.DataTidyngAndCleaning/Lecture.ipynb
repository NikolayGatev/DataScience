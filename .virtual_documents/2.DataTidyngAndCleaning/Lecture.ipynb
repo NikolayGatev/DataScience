%matplotlib inline


import numpy as np
import pandas as pd
import matplotlib.pyplot as plt





rew = pd.read_csv("02.Data-Tidying-and-Cleaning-Materials/pew.csv")


rew


rew_tidy = rew.melt(id_vars=["religion"], var_name = "income", value_name = "frequence") # melt обединява редове в колони


pd.pi() # обратна операция на melt, пренарежда колони


rew_tidy


rew.columns, rew_tidy.columns


rew_tidy


rew_tidy.dtypes


rew_tidy.religion = rew_tidy.religion.astype("category")
rew_tidy.income = rew_tidy.religion.astype("category") # промяна на типа данни в колоната



rew_tidy.dtypes


tb = pd.read_csv("02.Data-Tidying-and-Cleaning-Materials/tb.csv")


tb





tb.shape


tb.dtypes # NaN са валитни float стойности


tb[(tb.year == 1989) & (tb.iso2 == "AD")].values # това е начин за филтриране


tb.describe().T # в тези статистики NaN не участва


tb_tidy = tb.melt(id_vars = ["iso2", "year"], var_name = "sex_and_age", value_name = "cases") # id_vars - указваме кои колони да запазим


tb_tidy


tb_tidy.head()


tb_tidy.sex_and_age.str.slice(0, 1).unique() # str - дава достъп до операции за работа със стрингове, а dt - с дати


tb_tidy.sex_and_age.str.slice(1).unique()


tb_tidy["gender"] = tb_tidy.sex_and_age.str.slice(0, 1) # създаване на нова колона


tb_tidy["age_group"] = tb_tidy.sex_and_age.str.slice(1) # създаване на нова колона


tb_tidy = tb_tidy.drop(columns = ["sex_and_age"]) # премахване на колона


tb_tidy


tb_tidy.describe().T


tb_tidy_no_missing = tb_tidy.dropna() # dropna премахва всички NaN


tb_tidy_no_missing


tb_tidy_no_missing.cases.mean()


tb_tidy_no_missing[tb_tidy_no_missing.iso2 == "BG"] # филтриране


tb_tidy_no_missing[tb_tidy_no_missing.iso2 == "BG"].cases.mean # средено аритметично при филтър


tb_tidy_no_missing.age_group.str.len().value_counts() # groupBy на колоната age_group по дължина на стринга в клиетките


tb_tidy_no_missing.age_group.str.slice(0, 2) # slice отрязва стринга в показания диапазон


tb_tidy_no_missing.age_group.apply(lambda x: x[0]) # apply е начин да се проложи функция върху всеки един ред ако се подаде таблица или ако се подаде колона - за всяка една стойност от нея


def proceses_age_group(age_group):
    ages = {"04": "0-4", "65": "65+", "u" : "unknown"}
    if age_group in ages:
        return ages[age_group]
    else:
        # Put a dash before the last two digits
        return f"{age_group[:-2]}-{age_group[-2:]}"


tb_tidy_no_missing.age_group = tb_tidy_no_missing.age_group.apply(proceses_age_group) # променяме age_group


tb_tidy_no_missing.age_group.unique()


tb_tidy_no_missing


tb_tidy_no_missing.gender = tb_tidy_no_missing.gender.astype("category")
tb_tidy_no_missing.age_group = tb_tidy_no_missing.age_group.astype("category") # форматиране като тип категория


tb_tidy_no_missing


tb_tidy_no_missing = tb_tidy_no_missing[["iso2", "year", "gender", "age_group", "cases"]] # пренареждане на колонте


tb_tidy_no_missing = tb_tidy_no_missing.sort_values(["iso2", "year"]) # сортиране индексите се разбъркват


tb_tidy_no_missing


tb_tidy_no_missing = tb_tidy_no_missing.reset_index(drop = True) # създава на нов индекс и премахване на стария


tb_tidy_no_missing.cases = tb_tidy_no_missing.cases.astype(int) # променяне типа данни на cases


tb_tidy_no_missing


tb_tidy_no_missing.to_csv("02.Data-Tidying-and-Cleaning-Materials/tb_tidy.csv") # записване на данните във файл


weather_data = pd.read_csv("02.Data-Tidying-and-Cleaning-Materials/weather.csv")


weather_data


weather_data_tidy = weather_data.melt(id_vars = ["id", "year", "month", "element"], var_name = "day")


weather_data_tidy


weather_data_tidy.day.unique()


weather_data_tidy.day = weather_data_tidy.day.str.slice(1).astype(int)


weather_data_tidy


weather_data_tidy = weather_data_tidy.dropna()


weather_data_tidy


weather_data_tidy = weather_data_tidy.pivot_table(
    index = ["id", "year", "month", "day"]
    , columns = "element"
    , values = "value") 
# създаване на колони от редове в индекс са колоните, които запазваме, в columns колоните които ще разделяме и value стойностите


weather_data_tidy = weather_data_tidy.reset_index()


weather_data_tidy["date"] = weather_data_tidy.apply(lambda x: f"{x['year']}-{x['month']:02}-{x['day']:02}", axis = 1)


weather_data_tidy


weather_data_tidy = weather_data_tidy.drop(columns = ["year", "month", "day"])


weather_data_tidy.date = pd.to_datetime(weather_data_tidy["date"])


weather_data_tidy.dtypes


billboard_data = pd.read_csv("02.Data-Tidying-and-Cleaning-Materials/billboard.csv")


billboard_data


billboard_data[billboard_data.wk65.notna()] # notna() показва само стойностите с данни


billboard_data[billboard_data.columns[-15:]].describe().T


billboard_data = billboard_data.melt(id_vars = ["year", "artist", "track", "time", "date.entered"], var_name = "week", value_name ="position")


billboard_data = billboard_data.dropna()


billboard_data


billboard_data.week = billboard_data.week.str.slice(2).astype(int)


billboard_data.dtypes


billboard_data.position = billboard_data.position.astype(int)


billboard_data.dtypes


billboard_data["date.entered"] = pd.to_datetime(billboard_data["date.entered"])


billboard_data.dtypes


pd.Timedelta(1, "w") # функция за добавяне на време към datetime format


intervals = billboard_data.week.apply(lambda x: pd.Timedelta(x - 1, "w"))


billboard_data["date"] = billboard_data["date.entered"] + intervals


billboard_data


billboard_data[billboard_data.track == "Higher"]



