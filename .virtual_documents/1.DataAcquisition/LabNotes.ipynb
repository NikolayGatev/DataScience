%matplotlib inline


import numpy as np # работа с числа
import pandas as pd # работа с данни
import matplotlib.pyplot as plt # визуализации

import sqlalchemy # for sql

import requests # for Scraping
from bs4 import BeautifulSoup





pd.Series() # взема колона от таблица
pd.DataFrame() # колекции от данни, които са уникални
pd.DataFrame({"name": ["Ivan", "Georgi"], "surname": ["Ivanov", "Petrov"], "age": [23, 12]}) # създаване на датаФраме име на колоните и тяхните стойности





accidents = pd.read_csv("data/accidents.csv") # разчитане на данни от файл


accidents


accidents.index # индекс по редове, показва реймджа, включва началото но е и края (0, 6) от 0 до 5 включително


accidents.columns # индекс по колони


accidents["Miles from Home"] # тожа е от тип Series


type(accidents["Miles from Home"])


type(accidents[["Miles from Home"]]) # това е таблица с една колона - тип DataFrame


accidents.columns = ["miles_from_home", "pct_of_accidentd"] # пренаименуване на колоните


accidents.miles_from_home # ако името на колоната е една дума, може да се извика и по този начин


accidents.shape # показва колко реда и колко колони има в таблицата


accidents.describe() # показва статистически данни, може да се транспонира
accidents.describe().T


accidents.dtypes # показва типа данни на всяка колона от таблицата, object може и да е стринг(стринговете ги показва като object)


accidents.index = [7, 17, 20, 4, 2, -1] # така се променят индексите (инексите на редовете)


accidents


accidents.reset_index() # индексите се променят като започват от 0 - новите индекси са в 0-колона, а в 1 са старите индекси


accidents # данните са imutable не се променят. За да се променат трябва да се презапишат с inplace = True
reset_accidents = accidents.reset_index()
accidents.reset_index(inplace = True)


reset_accidents


accidents


accidents = accidents.reset_index(drop = True) # при ресетването, стария индекс се трие 


accidents


del reset_accidents # триене на обект - освобождава памент


reset_accidents


creadit_risk_data = pd.read_csv("https://github.com/plotly/datasets/raw/master/data.csv")


creadit_risk_data.shape


creadit_risk_data.dtypes


creadit_risk_data.describe().T


pd.read_excel("Data/green_tripdata_2015-09.xls") 





green_trip = pd.read_excel("Data/green_tripdata_2015-09.xls")


green_trip.shape


green_trip.dtypes


green_trip.columns # показва всички колони


green_trip.Fare_amount.mean() # средна стойност на колоната


plt.hist(green_trip.Fare_amount, bins = 50)
plt.show()


plt.hist(green_trip.Fare_amount[green_trip.Fare_amount > 0], bins = 50)
plt.show()


green_trip.Fare_amount[green_trip.Fare_amount > 0].skew()


pd.read_json(
    "https://openlibrary.org/api/books?bibkeys=ISBN:9780345354907,ISBN:0881847690,LCCN:2005041555,ISBN:0060957905&format=json",
    orient = "index"
) # четене на API, orient - показва как да се ориентитран таблицата 





engine = sqlalchemy.create_engine("sqlite:///тук се добая абсолютен път") # тази команда създава url начин за свързване
pd.read_sql_table("име на таблицата", engine) 









