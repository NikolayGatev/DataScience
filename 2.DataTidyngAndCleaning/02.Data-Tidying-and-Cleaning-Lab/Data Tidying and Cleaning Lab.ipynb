{
 "cells": [
  {
   "cell_type": "code",
   "execution_count": 1,
   "id": "078d90d4-aec6-40fe-997f-ce63c962d936",
   "metadata": {},
   "outputs": [],
   "source": [
    "%matplotlib inline\n",
    "import numpy as np\n",
    "import pandas as pd\n",
    "import matplotlib.pyplot as plt\n",
    "\n",
    "import re"
   ]
  },
  {
   "cell_type": "markdown",
   "id": "02aa71be-5d01-4efc-85fa-a019fe92a39a",
   "metadata": {},
   "source": [
    "# Data Tidying and Cleaning Lab\n",
    "## Reading, tidying and cleaning data. Preparing data for exploration, mining, analysis and learning"
   ]
  },
  {
   "cell_type": "markdown",
   "id": "259927d3-4ad5-471e-b34b-114f07127a39",
   "metadata": {},
   "source": [
    "In this lab, you'll be working with the Coffee Quality Index dataset, located [here](https://www.kaggle.com/datasets/volpatto/coffee-quality-database-from-cqi). For convenience (and to save trouble in case you can't download files, or someone uploads a newer version), I've provided the dataset in the `data/` folder. The metadata (description) is at the Kaggle link. For this lab, you'll only need `merged_data_cleaned.csv`, as it is the concatenation of the other two datasets.\n",
    "\n",
    "In this (and the following labs), you'll get several questions and problems. Do your analysis, describe it, use any tools and plots you wish, and answer. You can create any amount of cells you'd like.\n",
    "\n",
    "Sometimes, the answers will not be unique, and they will depend on how you decide to approach and solve the problem. This is usual - we're doing science after all!\n",
    "\n",
    "It's a good idea to save your clean dataset after all the work you've done to it."
   ]
  },
  {
   "cell_type": "markdown",
   "id": "4450ac8e-523c-46f8-a410-9ad5af4cfc14",
   "metadata": {},
   "source": [
    "### Problem 1. Read the dataset (1 point)\n",
    "This should be self-explanatory. The first column is the index."
   ]
  },
  {
   "cell_type": "code",
   "execution_count": 160,
   "id": "df50bd71-ea2a-4db9-814d-c49f782ca101",
   "metadata": {},
   "outputs": [],
   "source": [
    "# Read the file and write the data to a variable\n",
    "coffe_data = pd.read_csv(\"data/merged_data_cleaned.csv\")"
   ]
  },
  {
   "cell_type": "markdown",
   "id": "b278e2a8-56b4-4b1a-ad71-e7b920321e37",
   "metadata": {},
   "source": [
    "### Problem 2. Observations and features (1 point)\n",
    "How many observations are there? How many features? Which features are numerical, and which are categorical?\n",
    "\n",
    "**Note:** Think about the _meaning_, not the data types. The dataset hasn't been thoroughly cleaned."
   ]
  },
  {
   "cell_type": "code",
   "execution_count": 161,
   "id": "e7d17c46-5475-4c33-9c35-b7cf56ac41c3",
   "metadata": {},
   "outputs": [
    {
     "data": {
      "text/plain": [
       "Index(['Unnamed: 0', 'Species', 'Owner', 'Country.of.Origin', 'Farm.Name',\n",
       "       'Lot.Number', 'Mill', 'ICO.Number', 'Company', 'Altitude', 'Region',\n",
       "       'Producer', 'Number.of.Bags', 'Bag.Weight', 'In.Country.Partner',\n",
       "       'Harvest.Year', 'Grading.Date', 'Owner.1', 'Variety',\n",
       "       'Processing.Method', 'Aroma', 'Flavor', 'Aftertaste', 'Acidity', 'Body',\n",
       "       'Balance', 'Uniformity', 'Clean.Cup', 'Sweetness', 'Cupper.Points',\n",
       "       'Total.Cup.Points', 'Moisture', 'Category.One.Defects', 'Quakers',\n",
       "       'Color', 'Category.Two.Defects', 'Expiration', 'Certification.Body',\n",
       "       'Certification.Address', 'Certification.Contact', 'unit_of_measurement',\n",
       "       'altitude_low_meters', 'altitude_high_meters', 'altitude_mean_meters'],\n",
       "      dtype='object')"
      ]
     },
     "execution_count": 161,
     "metadata": {},
     "output_type": "execute_result"
    }
   ],
   "source": [
    "# View the columns` names\n",
    "coffe_data.columns "
   ]
  },
  {
   "cell_type": "code",
   "execution_count": 162,
   "id": "81125f98-0557-4c49-a6f3-6917c43a3226",
   "metadata": {},
   "outputs": [
    {
     "data": {
      "text/plain": [
       "Unnamed: 0                 int64\n",
       "Species                   object\n",
       "Owner                     object\n",
       "Country.of.Origin         object\n",
       "Farm.Name                 object\n",
       "Lot.Number                object\n",
       "Mill                      object\n",
       "ICO.Number                object\n",
       "Company                   object\n",
       "Altitude                  object\n",
       "Region                    object\n",
       "Producer                  object\n",
       "Number.of.Bags             int64\n",
       "Bag.Weight                object\n",
       "In.Country.Partner        object\n",
       "Harvest.Year              object\n",
       "Grading.Date              object\n",
       "Owner.1                   object\n",
       "Variety                   object\n",
       "Processing.Method         object\n",
       "Aroma                    float64\n",
       "Flavor                   float64\n",
       "Aftertaste               float64\n",
       "Acidity                  float64\n",
       "Body                     float64\n",
       "Balance                  float64\n",
       "Uniformity               float64\n",
       "Clean.Cup                float64\n",
       "Sweetness                float64\n",
       "Cupper.Points            float64\n",
       "Total.Cup.Points         float64\n",
       "Moisture                 float64\n",
       "Category.One.Defects       int64\n",
       "Quakers                  float64\n",
       "Color                     object\n",
       "Category.Two.Defects       int64\n",
       "Expiration                object\n",
       "Certification.Body        object\n",
       "Certification.Address     object\n",
       "Certification.Contact     object\n",
       "unit_of_measurement       object\n",
       "altitude_low_meters      float64\n",
       "altitude_high_meters     float64\n",
       "altitude_mean_meters     float64\n",
       "dtype: object"
      ]
     },
     "execution_count": 162,
     "metadata": {},
     "output_type": "execute_result"
    }
   ],
   "source": [
    "# View the columns` types\n",
    "coffe_data.dtypes"
   ]
  },
  {
   "cell_type": "code",
   "execution_count": 163,
   "id": "cb859445-9cdf-4e70-bba9-256394a8cbd0",
   "metadata": {},
   "outputs": [
    {
     "data": {
      "text/plain": [
       "(1339, 44)"
      ]
     },
     "execution_count": 163,
     "metadata": {},
     "output_type": "execute_result"
    }
   ],
   "source": [
    "# View count of rows and columns\n",
    "coffe_data.shape"
   ]
  },
  {
   "cell_type": "markdown",
   "id": "765b91ee-6481-4cd8-9461-d48bc9a9c364",
   "metadata": {},
   "source": [
    "In the provided data they have 1339 observations and 44 characteristics. Column names do not follow a single convention. There are four integer columns, 16 are floating point and the rest are object. There are no categorical characteristics and all are numeric with type float64 and int64 in field 18."
   ]
  },
  {
   "cell_type": "markdown",
   "id": "2b745e68-35eb-4acb-b39f-513137f0ee4b",
   "metadata": {},
   "source": [
    "### Problem 3. Column manipulation (1 point)\n",
    "Make the column names more Pythonic (which helps with the quality and... aesthetics). Convert column names to `snake_case`, i.e. `species`, `country_of_origin`, `ico_number`, etc. Try to not do it manually."
   ]
  },
  {
   "cell_type": "code",
   "execution_count": 164,
   "id": "301e9f3f-afd6-4a91-a32f-1974584694ca",
   "metadata": {},
   "outputs": [],
   "source": [
    "# changing all letters to lowercase and replacing \".\" with \"_\"\n",
    "coffe_data.columns = coffe_data.columns.str.lower().str.replace(\".\", \"_\")"
   ]
  },
  {
   "cell_type": "code",
   "execution_count": 165,
   "id": "e7cb2286-207c-4953-96f4-c182f50ad2ac",
   "metadata": {},
   "outputs": [
    {
     "data": {
      "text/plain": [
       "Index(['unnamed: 0', 'species', 'owner', 'country_of_origin', 'farm_name',\n",
       "       'lot_number', 'mill', 'ico_number', 'company', 'altitude', 'region',\n",
       "       'producer', 'number_of_bags', 'bag_weight', 'in_country_partner',\n",
       "       'harvest_year', 'grading_date', 'owner_1', 'variety',\n",
       "       'processing_method', 'aroma', 'flavor', 'aftertaste', 'acidity', 'body',\n",
       "       'balance', 'uniformity', 'clean_cup', 'sweetness', 'cupper_points',\n",
       "       'total_cup_points', 'moisture', 'category_one_defects', 'quakers',\n",
       "       'color', 'category_two_defects', 'expiration', 'certification_body',\n",
       "       'certification_address', 'certification_contact', 'unit_of_measurement',\n",
       "       'altitude_low_meters', 'altitude_high_meters', 'altitude_mean_meters'],\n",
       "      dtype='object')"
      ]
     },
     "execution_count": 165,
     "metadata": {},
     "output_type": "execute_result"
    }
   ],
   "source": [
    "coffe_data.columns"
   ]
  },
  {
   "cell_type": "markdown",
   "id": "8c53c4c6-6eb9-4c92-bd39-89286fe4c86e",
   "metadata": {},
   "source": [
    "### Problem 4. Bag weight (1 point)\n",
    "What's up with the bag weights? Make all necessary changes to the column values. Don't forget to document your methods and assumptions."
   ]
  },
  {
   "cell_type": "code",
   "execution_count": 166,
   "id": "8e97f3d0-1223-49a7-99a9-51a65e4ff4e0",
   "metadata": {},
   "outputs": [
    {
     "data": {
      "text/plain": [
       "array(['60 kg', '1', '30 kg', '69 kg', '1 kg', '2 kg,lbs', '6', '3 lbs',\n",
       "       '50 kg', '2 lbs', '100 lbs', '15 kg', '2 kg', '2', '70 kg',\n",
       "       '19200 kg', '5 lbs', '1 kg,lbs', '6 kg', '0 lbs', '46 kg', '40 kg',\n",
       "       '20 kg', '34 kg', '1 lbs', '660 kg', '18975 kg', '12000 kg',\n",
       "       '35 kg', '66 kg', '80 kg', '132 lbs', '5 kg', '25 kg', '59 kg',\n",
       "       '18000 kg', '150 lbs', '9000 kg', '18 kg', '10 kg', '29 kg',\n",
       "       '1218 kg', '4 lbs', '0 kg', '13800 kg', '1500 kg', '24 kg',\n",
       "       '80 lbs', '8 kg', '3 kg', '350 kg', '67 kg', '4 kg', '55 lbs',\n",
       "       '100 kg', '130 lbs'], dtype=object)"
      ]
     },
     "execution_count": 166,
     "metadata": {},
     "output_type": "execute_result"
    }
   ],
   "source": [
    "# checking the values ​​in a column \"bag_weight\"\n",
    "coffe_data[\"bag_weight\"].unique()"
   ]
  },
  {
   "cell_type": "code",
   "execution_count": 167,
   "id": "9a6b07d3-61ca-4b8d-88d2-49d4e930c750",
   "metadata": {},
   "outputs": [],
   "source": [
    "# define a function to convert all values ​​to kilograms and remove the letters\n",
    "def proceses_bag_weight(bag_weight):     \n",
    "    # when it is collograms\n",
    "    if bag_weight[-3:] == \" kg\":\n",
    "        return bag_weight[:-3]    \n",
    "    # when it is pounds\n",
    "    elif bag_weight[-4:] == \" lbs\": \n",
    "        return round(float(bag_weight[:-4]) * 0.45359237)   \n",
    "    # when the unit of measurement is not clear \n",
    "    elif bag_weight[-7:] == \" kg,lbs\":\n",
    "        return bag_weight[:-7]   \n",
    "    # when is only number \n",
    "    else:\n",
    "        return bag_weight"
   ]
  },
  {
   "cell_type": "code",
   "execution_count": 168,
   "id": "ecd6190e-0a72-4310-b7c8-723c995df70f",
   "metadata": {},
   "outputs": [],
   "source": [
    "# converting the values ​​in a column \"bag_weight\" to kilograms and discarding the difference symbols from a number\n",
    "coffe_data.bag_weight = coffe_data.bag_weight.apply(proceses_bag_weight)"
   ]
  },
  {
   "cell_type": "code",
   "execution_count": 169,
   "id": "5bdb477c-0ee5-4f93-a8a5-5eed4f6297fe",
   "metadata": {},
   "outputs": [],
   "source": [
    "coffe_data.bag_weight = coffe_data.bag_weight.astype(int)"
   ]
  },
  {
   "cell_type": "code",
   "execution_count": 170,
   "id": "531dadca-672a-4e7a-8ac0-5f790490e375",
   "metadata": {},
   "outputs": [
    {
     "data": {
      "text/plain": [
       "dtype('int32')"
      ]
     },
     "execution_count": 170,
     "metadata": {},
     "output_type": "execute_result"
    }
   ],
   "source": [
    "# checking the data type of a column \"bag_weight\"\n",
    "coffe_data[\"bag_weight\"].dtypes"
   ]
  },
  {
   "cell_type": "markdown",
   "id": "2ff1f817-8e5e-4185-a320-dde7ed2cada1",
   "metadata": {},
   "source": [
    "### Problem 5. Dates (1 point)\n",
    "This should remind you of problem 4 but it's slightly nastier. Fix the harvest years, document the process.\n",
    "\n",
    "While you're here, fix the expiration dates, and grading dates. Unlike the other column, these should be dates (`pd.to_datetime()` is your friend)."
   ]
  },
  {
   "cell_type": "code",
   "execution_count": 171,
   "id": "814dc5f9-9572-44f0-bff6-8efeb084f93d",
   "metadata": {
    "scrolled": true
   },
   "outputs": [
    {
     "data": {
      "text/plain": [
       "harvest_year\n",
       "2012                        354\n",
       "2014                        233\n",
       "2013                        181\n",
       "2015                        129\n",
       "2016                        124\n",
       "2017                         70\n",
       "2013/2014                    29\n",
       "2015/2016                    28\n",
       "2011                         26\n",
       "2017 / 2018                  19\n",
       "2014/2015                    19\n",
       "2009/2010                    12\n",
       "2010                         10\n",
       "2010-2011                     6\n",
       "2016 / 2017                   6\n",
       "4T/10                         4\n",
       "March 2010                    3\n",
       "2009-2010                     3\n",
       "Mayo a Julio                  3\n",
       "4T/2010                       3\n",
       "Abril - Julio                 2\n",
       "January 2011                  2\n",
       "2011/2012                     2\n",
       "08/09 crop                    2\n",
       "December 2009-March 2010      1\n",
       "TEST                          1\n",
       "4T72010                       1\n",
       "2018                          1\n",
       "1t/2011                       1\n",
       "2016/2017                     1\n",
       "3T/2011                       1\n",
       "Spring 2011 in Colombia.      1\n",
       "Abril - Julio /2011           1\n",
       "4t/2011                       1\n",
       "2009 / 2010                   1\n",
       "47/2010                       1\n",
       "2009 - 2010                   1\n",
       "August to December            1\n",
       "May-August                    1\n",
       "4t/2010                       1\n",
       "1T/2011                       1\n",
       "January Through April         1\n",
       "Fall 2009                     1\n",
       "Sept 2009 - April 2010        1\n",
       "mmm                           1\n",
       "23 July 2010                  1\n",
       "Name: count, dtype: int64"
      ]
     },
     "execution_count": 171,
     "metadata": {},
     "output_type": "execute_result"
    }
   ],
   "source": [
    "coffe_data[\"harvest_year\"].value_counts()"
   ]
  },
  {
   "cell_type": "markdown",
   "id": "e4c10b36-4887-47a2-b906-36938b6a361e",
   "metadata": {},
   "source": [
    "The data in column \"\" is extremely non-homogeneous. There are records missing any year information. In those where there are two years, only the second year will be taken. Where the year starts with only two digits, it will fall into YYYY format. Where the year is not specified, it will be marked with a NaH, since no information about the year is available in the relevant records."
   ]
  },
  {
   "cell_type": "code",
   "execution_count": 172,
   "id": "900124e2-d3ea-45f8-8330-5283bbd8dd0f",
   "metadata": {
    "scrolled": true
   },
   "outputs": [],
   "source": [
    "# remove all characters except the numbers and the spaces between them\n",
    "coffe_data[\"harvest_year\"] = coffe_data[\"harvest_year\"].str.extract(r'([0-9-\\/]*)')"
   ]
  },
  {
   "cell_type": "code",
   "execution_count": 173,
   "id": "ca2d4cd7-1920-4b45-9c5a-6ccd0106e084",
   "metadata": {},
   "outputs": [],
   "source": [
    "# function to return the data in YYYY format\n",
    "def cleaning_harvest_year(harvest_year):\n",
    "    clean_str = str(harvest_year)\n",
    "    four_digits = r'\\d{4}'\n",
    "    two_digits = r'\\d{2}'\n",
    "    #  taking the last year where it is in YYYY format\n",
    "    if re.search(four_digits, clean_str[-4:]):\n",
    "        return clean_str[-4:]\n",
    "    # converting the year to YYYY format when given in YY format\n",
    "    elif re.search(two_digits, clean_str[-2:]):\n",
    "        return \"20\" + clean_str[-2:]\n",
    "    # setting a NaN value where no year is specified\n",
    "    else:\n",
    "        return np.nan"
   ]
  },
  {
   "cell_type": "code",
   "execution_count": 174,
   "id": "b500f384-f348-4b2e-81ae-ceea4667a375",
   "metadata": {},
   "outputs": [],
   "source": [
    "# transform a column \"harvest_year\"\n",
    "coffe_data.harvest_year = coffe_data.harvest_year.apply(cleaning_harvest_year)"
   ]
  },
  {
   "cell_type": "code",
   "execution_count": 175,
   "id": "0260d2de-50df-4abc-a031-ae1cc9a9f980",
   "metadata": {
    "scrolled": true
   },
   "outputs": [
    {
     "data": {
      "text/plain": [
       "0           April 4th, 2015\n",
       "1           April 4th, 2015\n",
       "2            May 31st, 2010\n",
       "3          March 26th, 2015\n",
       "4           April 4th, 2015\n",
       "               ...         \n",
       "1334     January 19th, 2016\n",
       "1335     January 19th, 2016\n",
       "1336    December 23rd, 2014\n",
       "1337      August 25th, 2014\n",
       "1338      August 25th, 2014\n",
       "Name: grading_date, Length: 1339, dtype: object"
      ]
     },
     "execution_count": 175,
     "metadata": {},
     "output_type": "execute_result"
    }
   ],
   "source": [
    "# check the data in a column \"grading_date\"\n",
    "coffe_data[\"grading_date\"]"
   ]
  },
  {
   "cell_type": "code",
   "execution_count": 176,
   "id": "68342efb-0e16-449f-af7e-6a5a19859e85",
   "metadata": {},
   "outputs": [],
   "source": [
    "# method that converts dates to yyyy-ММ-dd format\n",
    "def clean_and_convert(date_str):\n",
    "    clean_date_str = re.sub(r'(\\d)(st|nd|rd|th)', r'\\1', date_str)\n",
    "    return pd.to_datetime(clean_date_str).strftime('%Y-%m-%d')"
   ]
  },
  {
   "cell_type": "code",
   "execution_count": 177,
   "id": "a5ccb941-dfa0-446f-8661-bb9edd61e074",
   "metadata": {},
   "outputs": [],
   "source": [
    "#converting dates from a column \"grading_date\" to yyyy-ММ-dd format\n",
    "coffe_data[\"grading_date\"] = [clean_and_convert(date) for date in coffe_data[\"grading_date\"]]"
   ]
  },
  {
   "cell_type": "code",
   "execution_count": 178,
   "id": "e0aad6d8-0b0f-4c1a-b086-7269b6370ca9",
   "metadata": {},
   "outputs": [],
   "source": [
    "# cast the data in a column \"grading_date\" to a type datetime\n",
    "coffe_data[\"grading_date\"] = pd.to_datetime(coffe_data[\"grading_date\"])"
   ]
  },
  {
   "cell_type": "code",
   "execution_count": 179,
   "id": "b56f6d1e-a698-4f61-ba37-e772e7ed6d21",
   "metadata": {},
   "outputs": [
    {
     "data": {
      "text/plain": [
       "False"
      ]
     },
     "execution_count": 179,
     "metadata": {},
     "output_type": "execute_result"
    }
   ],
   "source": [
    "# checking for null values\n",
    "coffe_data[\"grading_date\"].isnull().any()"
   ]
  },
  {
   "cell_type": "code",
   "execution_count": 180,
   "id": "0076170e-1841-4bbb-8f08-1ab9f7b76a3e",
   "metadata": {},
   "outputs": [],
   "source": [
    "#converting dates from a column \"expiration\" to yyyy-ММ-dd format\n",
    "coffe_data.expiration = [clean_and_convert(date) for date in coffe_data.expiration]"
   ]
  },
  {
   "cell_type": "code",
   "execution_count": 181,
   "id": "a3d6c049-542e-4176-b57b-7af9d37e65c7",
   "metadata": {},
   "outputs": [],
   "source": [
    "# cast the data in a column \"expiration\" to a type datetime\n",
    "coffe_data.expiration = pd.to_datetime(coffe_data.expiration)"
   ]
  },
  {
   "cell_type": "code",
   "execution_count": 182,
   "id": "47d0efa1-4817-4265-93c1-8ade4c07cd9d",
   "metadata": {},
   "outputs": [
    {
     "data": {
      "text/plain": [
       "False"
      ]
     },
     "execution_count": 182,
     "metadata": {},
     "output_type": "execute_result"
    }
   ],
   "source": [
    "# checking for null values\n",
    "coffe_data.expiration.isnull().any()"
   ]
  },
  {
   "cell_type": "markdown",
   "id": "0dff33b4-c94d-43b3-bab3-97eabb862a37",
   "metadata": {},
   "source": [
    "### Problem 6. Countries (1 point)\n",
    "How many coffees are there with unknown countries of origin? What can you do about them?"
   ]
  },
  {
   "cell_type": "code",
   "execution_count": 184,
   "id": "bb294bbf-710f-4d63-804a-2e46049ea30e",
   "metadata": {},
   "outputs": [
    {
     "data": {
      "text/plain": [
       "country_of_origin\n",
       "Mexico                          236\n",
       "Colombia                        183\n",
       "Guatemala                       181\n",
       "Brazil                          132\n",
       "Taiwan                           75\n",
       "United States (Hawaii)           73\n",
       "Honduras                         53\n",
       "Costa Rica                       51\n",
       "Ethiopia                         44\n",
       "Tanzania, United Republic Of     40\n",
       "Uganda                           36\n",
       "Thailand                         32\n",
       "Nicaragua                        26\n",
       "Kenya                            25\n",
       "El Salvador                      21\n",
       "Indonesia                        20\n",
       "China                            16\n",
       "India                            14\n",
       "Malawi                           11\n",
       "United States                    10\n",
       "Peru                             10\n",
       "Myanmar                           8\n",
       "Vietnam                           8\n",
       "Haiti                             6\n",
       "Philippines                       5\n",
       "United States (Puerto Rico)       4\n",
       "Panama                            4\n",
       "Ecuador                           3\n",
       "Laos                              3\n",
       "Burundi                           2\n",
       "Papua New Guinea                  1\n",
       "Rwanda                            1\n",
       "Zambia                            1\n",
       "Japan                             1\n",
       "Mauritius                         1\n",
       "Cote d?Ivoire                     1\n",
       "NaN                               1\n",
       "Name: count, dtype: int64"
      ]
     },
     "execution_count": 184,
     "metadata": {},
     "output_type": "execute_result"
    }
   ],
   "source": [
    "# checking all unique countries of origin\n",
    "coffe_data.country_of_origin.value_counts(dropna = False)"
   ]
  },
  {
   "cell_type": "code",
   "execution_count": 186,
   "id": "0851c1a8-0420-4dba-ac27-487bae4318be",
   "metadata": {},
   "outputs": [
    {
     "data": {
      "text/html": [
       "<div>\n",
       "<style scoped>\n",
       "    .dataframe tbody tr th:only-of-type {\n",
       "        vertical-align: middle;\n",
       "    }\n",
       "\n",
       "    .dataframe tbody tr th {\n",
       "        vertical-align: top;\n",
       "    }\n",
       "\n",
       "    .dataframe thead th {\n",
       "        text-align: right;\n",
       "    }\n",
       "</style>\n",
       "<table border=\"1\" class=\"dataframe\">\n",
       "  <thead>\n",
       "    <tr style=\"text-align: right;\">\n",
       "      <th></th>\n",
       "      <th>unnamed: 0</th>\n",
       "      <th>species</th>\n",
       "      <th>owner</th>\n",
       "      <th>country_of_origin</th>\n",
       "      <th>farm_name</th>\n",
       "      <th>lot_number</th>\n",
       "      <th>mill</th>\n",
       "      <th>ico_number</th>\n",
       "      <th>company</th>\n",
       "      <th>altitude</th>\n",
       "      <th>...</th>\n",
       "      <th>color</th>\n",
       "      <th>category_two_defects</th>\n",
       "      <th>expiration</th>\n",
       "      <th>certification_body</th>\n",
       "      <th>certification_address</th>\n",
       "      <th>certification_contact</th>\n",
       "      <th>unit_of_measurement</th>\n",
       "      <th>altitude_low_meters</th>\n",
       "      <th>altitude_high_meters</th>\n",
       "      <th>altitude_mean_meters</th>\n",
       "    </tr>\n",
       "  </thead>\n",
       "  <tbody>\n",
       "    <tr>\n",
       "      <th>1197</th>\n",
       "      <td>1197</td>\n",
       "      <td>Arabica</td>\n",
       "      <td>racafe &amp; cia s.c.a</td>\n",
       "      <td>NaN</td>\n",
       "      <td>NaN</td>\n",
       "      <td>NaN</td>\n",
       "      <td>NaN</td>\n",
       "      <td>3-37-1980</td>\n",
       "      <td>NaN</td>\n",
       "      <td>NaN</td>\n",
       "      <td>...</td>\n",
       "      <td>NaN</td>\n",
       "      <td>3</td>\n",
       "      <td>2012-02-29</td>\n",
       "      <td>Almacafé</td>\n",
       "      <td>e493c36c2d076bf273064f7ac23ad562af257a25</td>\n",
       "      <td>70d3c0c26f89e00fdae6fb39ff54f0d2eb1c38ab</td>\n",
       "      <td>m</td>\n",
       "      <td>NaN</td>\n",
       "      <td>NaN</td>\n",
       "      <td>NaN</td>\n",
       "    </tr>\n",
       "  </tbody>\n",
       "</table>\n",
       "<p>1 rows × 44 columns</p>\n",
       "</div>"
      ],
      "text/plain": [
       "      unnamed: 0  species               owner country_of_origin farm_name  \\\n",
       "1197        1197  Arabica  racafe & cia s.c.a               NaN       NaN   \n",
       "\n",
       "     lot_number mill ico_number company altitude  ... color  \\\n",
       "1197        NaN  NaN  3-37-1980     NaN      NaN  ...   NaN   \n",
       "\n",
       "     category_two_defects  expiration  certification_body  \\\n",
       "1197                    3  2012-02-29            Almacafé   \n",
       "\n",
       "                         certification_address  \\\n",
       "1197  e493c36c2d076bf273064f7ac23ad562af257a25   \n",
       "\n",
       "                         certification_contact unit_of_measurement  \\\n",
       "1197  70d3c0c26f89e00fdae6fb39ff54f0d2eb1c38ab                   m   \n",
       "\n",
       "     altitude_low_meters altitude_high_meters altitude_mean_meters  \n",
       "1197                 NaN                  NaN                  NaN  \n",
       "\n",
       "[1 rows x 44 columns]"
      ]
     },
     "execution_count": 186,
     "metadata": {},
     "output_type": "execute_result"
    }
   ],
   "source": [
    "# checking the data for this coffee which has no country of origin\n",
    "coffe_data[coffe_data.country_of_origin.isnull()]"
   ]
  },
  {
   "cell_type": "markdown",
   "id": "f0d9972c-e7b5-4ace-85e4-e6f7dda5e82e",
   "metadata": {},
   "source": [
    "There is one coffee with an unknown country of origin, since the owner is known and he is from Colombia, the country of origin may be Colombia, but since there is no information about the farm, it is not certain whether the farm where the coffee was harvested is not in another country. Since there are many empty cells in this record, the entire record may as well be deleted."
   ]
  },
  {
   "cell_type": "markdown",
   "id": "d0aa6f30-4b93-4f23-95e0-2cafb7152c6c",
   "metadata": {},
   "source": [
    "### Problem 7. Owners (1 point)\n",
    "There are two suspicious columns, named `Owner`, and `Owner.1` (they're likely called something different after you solved problem 3). Do something about them. Is there any link to `Producer`?"
   ]
  },
  {
   "cell_type": "code",
   "execution_count": 187,
   "id": "15c43707-3f95-4c58-b538-1a8b1e1f3480",
   "metadata": {},
   "outputs": [
    {
     "data": {
      "text/html": [
       "<div>\n",
       "<style scoped>\n",
       "    .dataframe tbody tr th:only-of-type {\n",
       "        vertical-align: middle;\n",
       "    }\n",
       "\n",
       "    .dataframe tbody tr th {\n",
       "        vertical-align: top;\n",
       "    }\n",
       "\n",
       "    .dataframe thead th {\n",
       "        text-align: right;\n",
       "    }\n",
       "</style>\n",
       "<table border=\"1\" class=\"dataframe\">\n",
       "  <thead>\n",
       "    <tr style=\"text-align: right;\">\n",
       "      <th></th>\n",
       "      <th>owner</th>\n",
       "      <th>owner_1</th>\n",
       "    </tr>\n",
       "  </thead>\n",
       "  <tbody>\n",
       "    <tr>\n",
       "      <th>364</th>\n",
       "      <td>NaN</td>\n",
       "      <td>NaN</td>\n",
       "    </tr>\n",
       "    <tr>\n",
       "      <th>459</th>\n",
       "      <td>NaN</td>\n",
       "      <td>NaN</td>\n",
       "    </tr>\n",
       "    <tr>\n",
       "      <th>602</th>\n",
       "      <td>NaN</td>\n",
       "      <td>NaN</td>\n",
       "    </tr>\n",
       "    <tr>\n",
       "      <th>848</th>\n",
       "      <td>NaN</td>\n",
       "      <td>NaN</td>\n",
       "    </tr>\n",
       "    <tr>\n",
       "      <th>882</th>\n",
       "      <td>NaN</td>\n",
       "      <td>NaN</td>\n",
       "    </tr>\n",
       "    <tr>\n",
       "      <th>975</th>\n",
       "      <td>NaN</td>\n",
       "      <td>NaN</td>\n",
       "    </tr>\n",
       "    <tr>\n",
       "      <th>1044</th>\n",
       "      <td>NaN</td>\n",
       "      <td>NaN</td>\n",
       "    </tr>\n",
       "  </tbody>\n",
       "</table>\n",
       "</div>"
      ],
      "text/plain": [
       "     owner owner_1\n",
       "364    NaN     NaN\n",
       "459    NaN     NaN\n",
       "602    NaN     NaN\n",
       "848    NaN     NaN\n",
       "882    NaN     NaN\n",
       "975    NaN     NaN\n",
       "1044   NaN     NaN"
      ]
     },
     "execution_count": 187,
     "metadata": {},
     "output_type": "execute_result"
    }
   ],
   "source": [
    "# checking for null values ​​of 'owner'\n",
    "coffe_data[coffe_data[['owner']].isnull().any(axis=1)][['owner', 'owner_1']]"
   ]
  },
  {
   "cell_type": "code",
   "execution_count": 188,
   "id": "f9533ef7-831a-4944-b7a1-252a00e3e3ce",
   "metadata": {},
   "outputs": [
    {
     "data": {
      "text/html": [
       "<div>\n",
       "<style scoped>\n",
       "    .dataframe tbody tr th:only-of-type {\n",
       "        vertical-align: middle;\n",
       "    }\n",
       "\n",
       "    .dataframe tbody tr th {\n",
       "        vertical-align: top;\n",
       "    }\n",
       "\n",
       "    .dataframe thead th {\n",
       "        text-align: right;\n",
       "    }\n",
       "</style>\n",
       "<table border=\"1\" class=\"dataframe\">\n",
       "  <thead>\n",
       "    <tr style=\"text-align: right;\">\n",
       "      <th></th>\n",
       "      <th>owner</th>\n",
       "      <th>owner_1</th>\n",
       "    </tr>\n",
       "  </thead>\n",
       "  <tbody>\n",
       "    <tr>\n",
       "      <th>364</th>\n",
       "      <td>NaN</td>\n",
       "      <td>NaN</td>\n",
       "    </tr>\n",
       "    <tr>\n",
       "      <th>459</th>\n",
       "      <td>NaN</td>\n",
       "      <td>NaN</td>\n",
       "    </tr>\n",
       "    <tr>\n",
       "      <th>602</th>\n",
       "      <td>NaN</td>\n",
       "      <td>NaN</td>\n",
       "    </tr>\n",
       "    <tr>\n",
       "      <th>848</th>\n",
       "      <td>NaN</td>\n",
       "      <td>NaN</td>\n",
       "    </tr>\n",
       "    <tr>\n",
       "      <th>882</th>\n",
       "      <td>NaN</td>\n",
       "      <td>NaN</td>\n",
       "    </tr>\n",
       "    <tr>\n",
       "      <th>975</th>\n",
       "      <td>NaN</td>\n",
       "      <td>NaN</td>\n",
       "    </tr>\n",
       "    <tr>\n",
       "      <th>1044</th>\n",
       "      <td>NaN</td>\n",
       "      <td>NaN</td>\n",
       "    </tr>\n",
       "  </tbody>\n",
       "</table>\n",
       "</div>"
      ],
      "text/plain": [
       "     owner owner_1\n",
       "364    NaN     NaN\n",
       "459    NaN     NaN\n",
       "602    NaN     NaN\n",
       "848    NaN     NaN\n",
       "882    NaN     NaN\n",
       "975    NaN     NaN\n",
       "1044   NaN     NaN"
      ]
     },
     "execution_count": 188,
     "metadata": {},
     "output_type": "execute_result"
    }
   ],
   "source": [
    "# checking for null values ​​of 'owner_1'\n",
    "coffe_data[coffe_data[['owner_1']].isnull().any(axis=1)][['owner', 'owner_1']]"
   ]
  },
  {
   "cell_type": "code",
   "execution_count": 189,
   "id": "39bc1689-33f6-4446-bfc3-c4b4e69eccf6",
   "metadata": {
    "scrolled": true
   },
   "outputs": [
    {
     "data": {
      "text/html": [
       "<div>\n",
       "<style scoped>\n",
       "    .dataframe tbody tr th:only-of-type {\n",
       "        vertical-align: middle;\n",
       "    }\n",
       "\n",
       "    .dataframe tbody tr th {\n",
       "        vertical-align: top;\n",
       "    }\n",
       "\n",
       "    .dataframe thead th {\n",
       "        text-align: right;\n",
       "    }\n",
       "</style>\n",
       "<table border=\"1\" class=\"dataframe\">\n",
       "  <thead>\n",
       "    <tr style=\"text-align: right;\">\n",
       "      <th></th>\n",
       "      <th>owner</th>\n",
       "      <th>owner_1</th>\n",
       "    </tr>\n",
       "  </thead>\n",
       "  <tbody>\n",
       "    <tr>\n",
       "      <th>219</th>\n",
       "      <td>ceca, s.a.</td>\n",
       "      <td>CECA,S.A.</td>\n",
       "    </tr>\n",
       "    <tr>\n",
       "      <th>364</th>\n",
       "      <td>NaN</td>\n",
       "      <td>NaN</td>\n",
       "    </tr>\n",
       "    <tr>\n",
       "      <th>392</th>\n",
       "      <td>federacion nacional de cafeteros</td>\n",
       "      <td>Federación Nacional de Cafeteros</td>\n",
       "    </tr>\n",
       "    <tr>\n",
       "      <th>459</th>\n",
       "      <td>NaN</td>\n",
       "      <td>NaN</td>\n",
       "    </tr>\n",
       "    <tr>\n",
       "      <th>602</th>\n",
       "      <td>NaN</td>\n",
       "      <td>NaN</td>\n",
       "    </tr>\n",
       "    <tr>\n",
       "      <th>734</th>\n",
       "      <td>klem organics</td>\n",
       "      <td>KlemOrganics</td>\n",
       "    </tr>\n",
       "    <tr>\n",
       "      <th>848</th>\n",
       "      <td>NaN</td>\n",
       "      <td>NaN</td>\n",
       "    </tr>\n",
       "    <tr>\n",
       "      <th>882</th>\n",
       "      <td>NaN</td>\n",
       "      <td>NaN</td>\n",
       "    </tr>\n",
       "    <tr>\n",
       "      <th>919</th>\n",
       "      <td>lin, che-hao krude 林哲豪</td>\n",
       "      <td>Lin, Che-Hao Krude 林哲豪\\n</td>\n",
       "    </tr>\n",
       "    <tr>\n",
       "      <th>961</th>\n",
       "      <td>klem organics</td>\n",
       "      <td>KlemOrganics</td>\n",
       "    </tr>\n",
       "    <tr>\n",
       "      <th>975</th>\n",
       "      <td>NaN</td>\n",
       "      <td>NaN</td>\n",
       "    </tr>\n",
       "    <tr>\n",
       "      <th>1044</th>\n",
       "      <td>NaN</td>\n",
       "      <td>NaN</td>\n",
       "    </tr>\n",
       "    <tr>\n",
       "      <th>1083</th>\n",
       "      <td>cqi taiwan icp cqi台灣合作夥伴</td>\n",
       "      <td>CQI Taiwan ICP CQI台灣合作夥伴\\n</td>\n",
       "    </tr>\n",
       "  </tbody>\n",
       "</table>\n",
       "</div>"
      ],
      "text/plain": [
       "                                 owner                           owner_1\n",
       "219                         ceca, s.a.                         CECA,S.A.\n",
       "364                                NaN                               NaN\n",
       "392   federacion nacional de cafeteros  Federación Nacional de Cafeteros\n",
       "459                                NaN                               NaN\n",
       "602                                NaN                               NaN\n",
       "734                      klem organics                      KlemOrganics\n",
       "848                                NaN                               NaN\n",
       "882                                NaN                               NaN\n",
       "919             lin, che-hao krude 林哲豪          Lin, Che-Hao Krude 林哲豪\\n\n",
       "961                      klem organics                      KlemOrganics\n",
       "975                                NaN                               NaN\n",
       "1044                               NaN                               NaN\n",
       "1083          cqi taiwan icp cqi台灣合作夥伴        CQI Taiwan ICP CQI台灣合作夥伴\\n"
      ]
     },
     "execution_count": 189,
     "metadata": {},
     "output_type": "execute_result"
    }
   ],
   "source": [
    "# checking for distinct values ​​in 'owner' and 'owner_1' columns after strings are made lowercase\n",
    "coffe_data[coffe_data['owner'].str.lower() != coffe_data['owner_1'].str.lower()][['owner', 'owner_1']]"
   ]
  },
  {
   "cell_type": "markdown",
   "id": "60d721d2-c88c-4148-9092-04c60f329691",
   "metadata": {},
   "source": [
    "The null check found that both columns 'owner' and 'owner_1'have the same rows with null values. After comparing the values ​​between the two columns for lowercase letters, 13 differences are available, seven of which are the zero values, and for the remaining fields, the difference in the \"\\n\" character, lack of a space, or a different alphabet when writing a character. Therefore, the columns are identical and can be removed."
   ]
  },
  {
   "cell_type": "code",
   "execution_count": 190,
   "id": "277a528b-ddf4-41b2-bc9b-aa4f4f6601ff",
   "metadata": {},
   "outputs": [],
   "source": [
    "# drop column \"owner_1\"\n",
    "coffe_data = coffe_data.drop(columns = \"owner_1\")"
   ]
  },
  {
   "cell_type": "code",
   "execution_count": 191,
   "id": "c7501e3f-9a79-4b95-a2bd-97ea90967ea2",
   "metadata": {},
   "outputs": [
    {
     "data": {
      "text/plain": [
       "151"
      ]
     },
     "execution_count": 191,
     "metadata": {},
     "output_type": "execute_result"
    }
   ],
   "source": [
    "# checking for distinct values ​​in 'owner' and 'producer' columns after strings are made lowercase\n",
    "coffe_data[coffe_data['owner'].str.lower() == coffe_data['producer'].str.lower()][['owner', 'producer']].shape[0]"
   ]
  },
  {
   "cell_type": "markdown",
   "id": "d26ff01b-68bc-4e69-90bf-25c97cc2f16b",
   "metadata": {},
   "source": [
    "After comparing the values ​​between the columns 'owner' and 'producer' in lower case, 151 matches are available or about 11%"
   ]
  },
  {
   "cell_type": "markdown",
   "id": "30c53923-1b72-4500-af0a-47fdca9f57e9",
   "metadata": {},
   "source": [
    "### Problem 8. Coffee color by country and continent (1 point)\n",
    "Create a table which shows how many coffees of each color are there in every country. Leave the missing values as they are.\n",
    "\n",
    "**Note:** If you ask me, countries should be in rows, I prefer long tables much better than wide ones.\n",
    "\n",
    "Now do the same for continents. You know what continent each country is located in."
   ]
  },
  {
   "cell_type": "code",
   "execution_count": 192,
   "id": "72cbe6a9-ca71-4826-806d-562bc30b40d2",
   "metadata": {},
   "outputs": [],
   "source": [
    "# Creating a table that shows in which country how many coffees of the corresponding color there are. \n",
    "table_countries_color = coffe_data.pivot_table(index = \"country_of_origin\", columns = \"color\", aggfunc='size', fill_value = 0)"
   ]
  },
  {
   "cell_type": "code",
   "execution_count": 213,
   "id": "32042844-27e6-4038-af7f-8be615e90357",
   "metadata": {},
   "outputs": [
    {
     "data": {
      "text/html": [
       "<div>\n",
       "<style scoped>\n",
       "    .dataframe tbody tr th:only-of-type {\n",
       "        vertical-align: middle;\n",
       "    }\n",
       "\n",
       "    .dataframe tbody tr th {\n",
       "        vertical-align: top;\n",
       "    }\n",
       "\n",
       "    .dataframe thead th {\n",
       "        text-align: right;\n",
       "    }\n",
       "</style>\n",
       "<table border=\"1\" class=\"dataframe\">\n",
       "  <thead>\n",
       "    <tr style=\"text-align: right;\">\n",
       "      <th>color</th>\n",
       "      <th>Blue-Green</th>\n",
       "      <th>Bluish-Green</th>\n",
       "      <th>Green</th>\n",
       "    </tr>\n",
       "    <tr>\n",
       "      <th>country_of_origin</th>\n",
       "      <th></th>\n",
       "      <th></th>\n",
       "      <th></th>\n",
       "    </tr>\n",
       "  </thead>\n",
       "  <tbody>\n",
       "    <tr>\n",
       "      <th>Brazil</th>\n",
       "      <td>14</td>\n",
       "      <td>12</td>\n",
       "      <td>92</td>\n",
       "    </tr>\n",
       "    <tr>\n",
       "      <th>Burundi</th>\n",
       "      <td>0</td>\n",
       "      <td>0</td>\n",
       "      <td>1</td>\n",
       "    </tr>\n",
       "    <tr>\n",
       "      <th>China</th>\n",
       "      <td>0</td>\n",
       "      <td>0</td>\n",
       "      <td>16</td>\n",
       "    </tr>\n",
       "    <tr>\n",
       "      <th>Colombia</th>\n",
       "      <td>8</td>\n",
       "      <td>8</td>\n",
       "      <td>118</td>\n",
       "    </tr>\n",
       "    <tr>\n",
       "      <th>Costa Rica</th>\n",
       "      <td>10</td>\n",
       "      <td>9</td>\n",
       "      <td>28</td>\n",
       "    </tr>\n",
       "    <tr>\n",
       "      <th>Cote d?Ivoire</th>\n",
       "      <td>0</td>\n",
       "      <td>1</td>\n",
       "      <td>0</td>\n",
       "    </tr>\n",
       "    <tr>\n",
       "      <th>Ecuador</th>\n",
       "      <td>2</td>\n",
       "      <td>1</td>\n",
       "      <td>0</td>\n",
       "    </tr>\n",
       "    <tr>\n",
       "      <th>El Salvador</th>\n",
       "      <td>2</td>\n",
       "      <td>2</td>\n",
       "      <td>9</td>\n",
       "    </tr>\n",
       "    <tr>\n",
       "      <th>Ethiopia</th>\n",
       "      <td>0</td>\n",
       "      <td>2</td>\n",
       "      <td>15</td>\n",
       "    </tr>\n",
       "    <tr>\n",
       "      <th>Guatemala</th>\n",
       "      <td>2</td>\n",
       "      <td>7</td>\n",
       "      <td>159</td>\n",
       "    </tr>\n",
       "    <tr>\n",
       "      <th>Haiti</th>\n",
       "      <td>1</td>\n",
       "      <td>1</td>\n",
       "      <td>2</td>\n",
       "    </tr>\n",
       "    <tr>\n",
       "      <th>Honduras</th>\n",
       "      <td>3</td>\n",
       "      <td>2</td>\n",
       "      <td>47</td>\n",
       "    </tr>\n",
       "    <tr>\n",
       "      <th>India</th>\n",
       "      <td>1</td>\n",
       "      <td>2</td>\n",
       "      <td>10</td>\n",
       "    </tr>\n",
       "    <tr>\n",
       "      <th>Indonesia</th>\n",
       "      <td>4</td>\n",
       "      <td>3</td>\n",
       "      <td>6</td>\n",
       "    </tr>\n",
       "    <tr>\n",
       "      <th>Japan</th>\n",
       "      <td>0</td>\n",
       "      <td>0</td>\n",
       "      <td>1</td>\n",
       "    </tr>\n",
       "    <tr>\n",
       "      <th>Kenya</th>\n",
       "      <td>3</td>\n",
       "      <td>6</td>\n",
       "      <td>14</td>\n",
       "    </tr>\n",
       "    <tr>\n",
       "      <th>Laos</th>\n",
       "      <td>1</td>\n",
       "      <td>1</td>\n",
       "      <td>1</td>\n",
       "    </tr>\n",
       "    <tr>\n",
       "      <th>Malawi</th>\n",
       "      <td>1</td>\n",
       "      <td>4</td>\n",
       "      <td>6</td>\n",
       "    </tr>\n",
       "    <tr>\n",
       "      <th>Mauritius</th>\n",
       "      <td>0</td>\n",
       "      <td>0</td>\n",
       "      <td>1</td>\n",
       "    </tr>\n",
       "    <tr>\n",
       "      <th>Mexico</th>\n",
       "      <td>7</td>\n",
       "      <td>7</td>\n",
       "      <td>156</td>\n",
       "    </tr>\n",
       "    <tr>\n",
       "      <th>Myanmar</th>\n",
       "      <td>0</td>\n",
       "      <td>0</td>\n",
       "      <td>7</td>\n",
       "    </tr>\n",
       "    <tr>\n",
       "      <th>Nicaragua</th>\n",
       "      <td>0</td>\n",
       "      <td>2</td>\n",
       "      <td>19</td>\n",
       "    </tr>\n",
       "    <tr>\n",
       "      <th>Panama</th>\n",
       "      <td>0</td>\n",
       "      <td>1</td>\n",
       "      <td>2</td>\n",
       "    </tr>\n",
       "    <tr>\n",
       "      <th>Papua New Guinea</th>\n",
       "      <td>0</td>\n",
       "      <td>1</td>\n",
       "      <td>0</td>\n",
       "    </tr>\n",
       "    <tr>\n",
       "      <th>Peru</th>\n",
       "      <td>0</td>\n",
       "      <td>2</td>\n",
       "      <td>6</td>\n",
       "    </tr>\n",
       "    <tr>\n",
       "      <th>Philippines</th>\n",
       "      <td>1</td>\n",
       "      <td>1</td>\n",
       "      <td>2</td>\n",
       "    </tr>\n",
       "    <tr>\n",
       "      <th>Rwanda</th>\n",
       "      <td>0</td>\n",
       "      <td>1</td>\n",
       "      <td>0</td>\n",
       "    </tr>\n",
       "    <tr>\n",
       "      <th>Taiwan</th>\n",
       "      <td>14</td>\n",
       "      <td>5</td>\n",
       "      <td>50</td>\n",
       "    </tr>\n",
       "    <tr>\n",
       "      <th>Tanzania, United Republic Of</th>\n",
       "      <td>0</td>\n",
       "      <td>7</td>\n",
       "      <td>32</td>\n",
       "    </tr>\n",
       "    <tr>\n",
       "      <th>Thailand</th>\n",
       "      <td>3</td>\n",
       "      <td>7</td>\n",
       "      <td>10</td>\n",
       "    </tr>\n",
       "    <tr>\n",
       "      <th>Uganda</th>\n",
       "      <td>2</td>\n",
       "      <td>1</td>\n",
       "      <td>32</td>\n",
       "    </tr>\n",
       "    <tr>\n",
       "      <th>United States</th>\n",
       "      <td>0</td>\n",
       "      <td>0</td>\n",
       "      <td>1</td>\n",
       "    </tr>\n",
       "    <tr>\n",
       "      <th>United States (Hawaii)</th>\n",
       "      <td>6</td>\n",
       "      <td>16</td>\n",
       "      <td>21</td>\n",
       "    </tr>\n",
       "    <tr>\n",
       "      <th>United States (Puerto Rico)</th>\n",
       "      <td>0</td>\n",
       "      <td>1</td>\n",
       "      <td>3</td>\n",
       "    </tr>\n",
       "    <tr>\n",
       "      <th>Vietnam</th>\n",
       "      <td>0</td>\n",
       "      <td>1</td>\n",
       "      <td>3</td>\n",
       "    </tr>\n",
       "  </tbody>\n",
       "</table>\n",
       "</div>"
      ],
      "text/plain": [
       "color                         Blue-Green  Bluish-Green  Green\n",
       "country_of_origin                                            \n",
       "Brazil                                14            12     92\n",
       "Burundi                                0             0      1\n",
       "China                                  0             0     16\n",
       "Colombia                               8             8    118\n",
       "Costa Rica                            10             9     28\n",
       "Cote d?Ivoire                          0             1      0\n",
       "Ecuador                                2             1      0\n",
       "El Salvador                            2             2      9\n",
       "Ethiopia                               0             2     15\n",
       "Guatemala                              2             7    159\n",
       "Haiti                                  1             1      2\n",
       "Honduras                               3             2     47\n",
       "India                                  1             2     10\n",
       "Indonesia                              4             3      6\n",
       "Japan                                  0             0      1\n",
       "Kenya                                  3             6     14\n",
       "Laos                                   1             1      1\n",
       "Malawi                                 1             4      6\n",
       "Mauritius                              0             0      1\n",
       "Mexico                                 7             7    156\n",
       "Myanmar                                0             0      7\n",
       "Nicaragua                              0             2     19\n",
       "Panama                                 0             1      2\n",
       "Papua New Guinea                       0             1      0\n",
       "Peru                                   0             2      6\n",
       "Philippines                            1             1      2\n",
       "Rwanda                                 0             1      0\n",
       "Taiwan                                14             5     50\n",
       "Tanzania, United Republic Of           0             7     32\n",
       "Thailand                               3             7     10\n",
       "Uganda                                 2             1     32\n",
       "United States                          0             0      1\n",
       "United States (Hawaii)                 6            16     21\n",
       "United States (Puerto Rico)            0             1      3\n",
       "Vietnam                                0             1      3"
      ]
     },
     "execution_count": 213,
     "metadata": {},
     "output_type": "execute_result"
    }
   ],
   "source": [
    "# \n",
    "table_countries_color"
   ]
  },
  {
   "cell_type": "markdown",
   "id": "1c154b63-7a2d-4a38-87c8-44a43ca58758",
   "metadata": {},
   "source": [
    "There is one coffee that doesn't have a country, but it's also missing a color, so it won't affect the tables for the number of coffees by color in different countries and continents.\n",
    "\n",
    "Since the table is missing data for continents, this information will be added from another table. For this purpose, first in the table \"cafe_data\", a new column will be created, in which the name of the countries will be reduced to a form that allows the use of the method in pandas merge. All US territories will be treated as the North American continent, Taiwan (an unrecognized country by many countries), for merge purposes will be listed in the new column as China."
   ]
  },
  {
   "cell_type": "code",
   "execution_count": 203,
   "id": "acb31893-fd30-439f-a722-c114e68a1fe2",
   "metadata": {},
   "outputs": [],
   "source": [
    "# Method for handling country names\n",
    "def clean_countries(country_of_origin):\n",
    "    if \"United States\" in str(country_of_origin):\n",
    "        return \"US\"\n",
    "    elif \"Tanzania\" in str(country_of_origin):\n",
    "        return \"Tanzania\"\n",
    "    elif \"Cote d?Ivoire\" in str(country_of_origin):\n",
    "        return \"Ivory Coast\"\n",
    "    elif \"Taiwan\" in str(country_of_origin):\n",
    "        return \"China\"\n",
    "    elif \"Myanmar\" in str(country_of_origin):\n",
    "        return \"Burma (Myanmar)\"\n",
    "    else:\n",
    "        return country_of_origin"
   ]
  },
  {
   "cell_type": "code",
   "execution_count": 204,
   "id": "8ddd4a2b-b1ce-4663-a0d3-5128e6949ec5",
   "metadata": {},
   "outputs": [],
   "source": [
    "# Create a new column for merge purposes\n",
    "coffe_data[\"clean_country\"] = coffe_data.country_of_origin.apply(clean_countries)"
   ]
  },
  {
   "cell_type": "code",
   "execution_count": 205,
   "id": "9c2d78fa-9e0c-4bfc-ad5b-e02d975d8f1e",
   "metadata": {},
   "outputs": [],
   "source": [
    "# Create a new table with information about continents\n",
    "continents_data = pd.read_csv(\"data/Countries-Continents.csv\")"
   ]
  },
  {
   "cell_type": "code",
   "execution_count": 206,
   "id": "d832bc47-a007-424a-a724-6e3c80370b7d",
   "metadata": {},
   "outputs": [],
   "source": [
    "# Change column names\n",
    "continents_data.columns = [\"continents\", \"clean_country\"]"
   ]
  },
  {
   "cell_type": "code",
   "execution_count": 207,
   "id": "58a92114-1ab1-4234-864d-2c3c2688da05",
   "metadata": {},
   "outputs": [
    {
     "data": {
      "text/html": [
       "<div>\n",
       "<style scoped>\n",
       "    .dataframe tbody tr th:only-of-type {\n",
       "        vertical-align: middle;\n",
       "    }\n",
       "\n",
       "    .dataframe tbody tr th {\n",
       "        vertical-align: top;\n",
       "    }\n",
       "\n",
       "    .dataframe thead th {\n",
       "        text-align: right;\n",
       "    }\n",
       "</style>\n",
       "<table border=\"1\" class=\"dataframe\">\n",
       "  <thead>\n",
       "    <tr style=\"text-align: right;\">\n",
       "      <th></th>\n",
       "      <th>continents</th>\n",
       "      <th>clean_country</th>\n",
       "    </tr>\n",
       "  </thead>\n",
       "  <tbody>\n",
       "    <tr>\n",
       "      <th>0</th>\n",
       "      <td>Africa</td>\n",
       "      <td>Algeria</td>\n",
       "    </tr>\n",
       "    <tr>\n",
       "      <th>1</th>\n",
       "      <td>Africa</td>\n",
       "      <td>Angola</td>\n",
       "    </tr>\n",
       "    <tr>\n",
       "      <th>2</th>\n",
       "      <td>Africa</td>\n",
       "      <td>Benin</td>\n",
       "    </tr>\n",
       "    <tr>\n",
       "      <th>3</th>\n",
       "      <td>Africa</td>\n",
       "      <td>Botswana</td>\n",
       "    </tr>\n",
       "    <tr>\n",
       "      <th>4</th>\n",
       "      <td>Africa</td>\n",
       "      <td>Burkina</td>\n",
       "    </tr>\n",
       "    <tr>\n",
       "      <th>...</th>\n",
       "      <td>...</td>\n",
       "      <td>...</td>\n",
       "    </tr>\n",
       "    <tr>\n",
       "      <th>189</th>\n",
       "      <td>South America</td>\n",
       "      <td>Paraguay</td>\n",
       "    </tr>\n",
       "    <tr>\n",
       "      <th>190</th>\n",
       "      <td>South America</td>\n",
       "      <td>Peru</td>\n",
       "    </tr>\n",
       "    <tr>\n",
       "      <th>191</th>\n",
       "      <td>South America</td>\n",
       "      <td>Suriname</td>\n",
       "    </tr>\n",
       "    <tr>\n",
       "      <th>192</th>\n",
       "      <td>South America</td>\n",
       "      <td>Uruguay</td>\n",
       "    </tr>\n",
       "    <tr>\n",
       "      <th>193</th>\n",
       "      <td>South America</td>\n",
       "      <td>Venezuela</td>\n",
       "    </tr>\n",
       "  </tbody>\n",
       "</table>\n",
       "<p>194 rows × 2 columns</p>\n",
       "</div>"
      ],
      "text/plain": [
       "        continents clean_country\n",
       "0           Africa       Algeria\n",
       "1           Africa        Angola\n",
       "2           Africa         Benin\n",
       "3           Africa      Botswana\n",
       "4           Africa       Burkina\n",
       "..             ...           ...\n",
       "189  South America      Paraguay\n",
       "190  South America          Peru\n",
       "191  South America      Suriname\n",
       "192  South America       Uruguay\n",
       "193  South America     Venezuela\n",
       "\n",
       "[194 rows x 2 columns]"
      ]
     },
     "execution_count": 207,
     "metadata": {},
     "output_type": "execute_result"
    }
   ],
   "source": [
    "continents_data"
   ]
  },
  {
   "cell_type": "code",
   "execution_count": 210,
   "id": "6670672f-146c-4781-af95-5f3eab06d7ca",
   "metadata": {},
   "outputs": [],
   "source": [
    "# Add a column in table \"coffe_data\" with contentnets to a table\n",
    "coffe_data = coffe_data.merge(continents_data, on = \"clean_country\", how = \"left\")"
   ]
  },
  {
   "cell_type": "code",
   "execution_count": 211,
   "id": "97175c42-5911-43a0-bd51-a04d0f9fba6a",
   "metadata": {},
   "outputs": [
    {
     "data": {
      "text/html": [
       "<div>\n",
       "<style scoped>\n",
       "    .dataframe tbody tr th:only-of-type {\n",
       "        vertical-align: middle;\n",
       "    }\n",
       "\n",
       "    .dataframe tbody tr th {\n",
       "        vertical-align: top;\n",
       "    }\n",
       "\n",
       "    .dataframe thead th {\n",
       "        text-align: right;\n",
       "    }\n",
       "</style>\n",
       "<table border=\"1\" class=\"dataframe\">\n",
       "  <thead>\n",
       "    <tr style=\"text-align: right;\">\n",
       "      <th></th>\n",
       "      <th>unnamed: 0</th>\n",
       "      <th>species</th>\n",
       "      <th>owner</th>\n",
       "      <th>country_of_origin</th>\n",
       "      <th>farm_name</th>\n",
       "      <th>lot_number</th>\n",
       "      <th>mill</th>\n",
       "      <th>ico_number</th>\n",
       "      <th>company</th>\n",
       "      <th>altitude</th>\n",
       "      <th>...</th>\n",
       "      <th>expiration</th>\n",
       "      <th>certification_body</th>\n",
       "      <th>certification_address</th>\n",
       "      <th>certification_contact</th>\n",
       "      <th>unit_of_measurement</th>\n",
       "      <th>altitude_low_meters</th>\n",
       "      <th>altitude_high_meters</th>\n",
       "      <th>altitude_mean_meters</th>\n",
       "      <th>clean_country</th>\n",
       "      <th>continents</th>\n",
       "    </tr>\n",
       "  </thead>\n",
       "  <tbody>\n",
       "    <tr>\n",
       "      <th>1197</th>\n",
       "      <td>1197</td>\n",
       "      <td>Arabica</td>\n",
       "      <td>racafe &amp; cia s.c.a</td>\n",
       "      <td>NaN</td>\n",
       "      <td>NaN</td>\n",
       "      <td>NaN</td>\n",
       "      <td>NaN</td>\n",
       "      <td>3-37-1980</td>\n",
       "      <td>NaN</td>\n",
       "      <td>NaN</td>\n",
       "      <td>...</td>\n",
       "      <td>2012-02-29</td>\n",
       "      <td>Almacafé</td>\n",
       "      <td>e493c36c2d076bf273064f7ac23ad562af257a25</td>\n",
       "      <td>70d3c0c26f89e00fdae6fb39ff54f0d2eb1c38ab</td>\n",
       "      <td>m</td>\n",
       "      <td>NaN</td>\n",
       "      <td>NaN</td>\n",
       "      <td>NaN</td>\n",
       "      <td>NaN</td>\n",
       "      <td>NaN</td>\n",
       "    </tr>\n",
       "  </tbody>\n",
       "</table>\n",
       "<p>1 rows × 45 columns</p>\n",
       "</div>"
      ],
      "text/plain": [
       "      unnamed: 0  species               owner country_of_origin farm_name  \\\n",
       "1197        1197  Arabica  racafe & cia s.c.a               NaN       NaN   \n",
       "\n",
       "     lot_number mill ico_number company altitude  ... expiration  \\\n",
       "1197        NaN  NaN  3-37-1980     NaN      NaN  ... 2012-02-29   \n",
       "\n",
       "     certification_body                     certification_address  \\\n",
       "1197           Almacafé  e493c36c2d076bf273064f7ac23ad562af257a25   \n",
       "\n",
       "                         certification_contact unit_of_measurement  \\\n",
       "1197  70d3c0c26f89e00fdae6fb39ff54f0d2eb1c38ab                   m   \n",
       "\n",
       "     altitude_low_meters altitude_high_meters altitude_mean_meters  \\\n",
       "1197                 NaN                  NaN                  NaN   \n",
       "\n",
       "     clean_country  continents  \n",
       "1197           NaN         NaN  \n",
       "\n",
       "[1 rows x 45 columns]"
      ]
     },
     "execution_count": 211,
     "metadata": {},
     "output_type": "execute_result"
    }
   ],
   "source": [
    "# Checking if a continent is filled for each country. There is one entry without a country, so it is also without a continent.\n",
    "coffe_data[coffe_data[[\"continents\"]].isnull().any(axis = 1)]"
   ]
  },
  {
   "cell_type": "code",
   "execution_count": 214,
   "id": "c57da5a9-a27a-4031-bf81-32b7882b8307",
   "metadata": {},
   "outputs": [],
   "source": [
    "# Creating a table that shows in which continent how many coffees of the corresponding color there are.\n",
    "table_continents_colors = coffe_data.pivot_table(index = \"continents\", columns = \"color\", aggfunc='size', fill_value = 0)"
   ]
  },
  {
   "cell_type": "markdown",
   "id": "27095ced-7179-4ee4-94d3-7d94450b4120",
   "metadata": {},
   "source": [
    "### Problem 9. Ratings (1 point)\n",
    "The columns `Aroma`, `Flavor`, etc., up to `Moisture` represent subjective ratings. Explore them. Show the means and range; draw histograms and / or boxplots as needed. You can even try correlations if you want. What's up with all those ratings?"
   ]
  },
  {
   "cell_type": "code",
   "execution_count": 251,
   "id": "9946d55e-f9cb-4502-bf90-4bb721dc74c0",
   "metadata": {},
   "outputs": [
    {
     "data": {
      "text/html": [
       "<div>\n",
       "<style scoped>\n",
       "    .dataframe tbody tr th:only-of-type {\n",
       "        vertical-align: middle;\n",
       "    }\n",
       "\n",
       "    .dataframe tbody tr th {\n",
       "        vertical-align: top;\n",
       "    }\n",
       "\n",
       "    .dataframe thead th {\n",
       "        text-align: right;\n",
       "    }\n",
       "</style>\n",
       "<table border=\"1\" class=\"dataframe\">\n",
       "  <thead>\n",
       "    <tr style=\"text-align: right;\">\n",
       "      <th></th>\n",
       "      <th>count</th>\n",
       "      <th>mean</th>\n",
       "      <th>std</th>\n",
       "      <th>min</th>\n",
       "      <th>25%</th>\n",
       "      <th>50%</th>\n",
       "      <th>75%</th>\n",
       "      <th>max</th>\n",
       "    </tr>\n",
       "  </thead>\n",
       "  <tbody>\n",
       "    <tr>\n",
       "      <th>aroma</th>\n",
       "      <td>1339.0</td>\n",
       "      <td>7.566706</td>\n",
       "      <td>0.377560</td>\n",
       "      <td>0.0</td>\n",
       "      <td>7.42</td>\n",
       "      <td>7.58</td>\n",
       "      <td>7.75</td>\n",
       "      <td>8.75</td>\n",
       "    </tr>\n",
       "    <tr>\n",
       "      <th>flavor</th>\n",
       "      <td>1339.0</td>\n",
       "      <td>7.520426</td>\n",
       "      <td>0.398442</td>\n",
       "      <td>0.0</td>\n",
       "      <td>7.33</td>\n",
       "      <td>7.58</td>\n",
       "      <td>7.75</td>\n",
       "      <td>8.83</td>\n",
       "    </tr>\n",
       "    <tr>\n",
       "      <th>aftertaste</th>\n",
       "      <td>1339.0</td>\n",
       "      <td>7.401083</td>\n",
       "      <td>0.404463</td>\n",
       "      <td>0.0</td>\n",
       "      <td>7.25</td>\n",
       "      <td>7.42</td>\n",
       "      <td>7.58</td>\n",
       "      <td>8.67</td>\n",
       "    </tr>\n",
       "    <tr>\n",
       "      <th>acidity</th>\n",
       "      <td>1339.0</td>\n",
       "      <td>7.535706</td>\n",
       "      <td>0.379827</td>\n",
       "      <td>0.0</td>\n",
       "      <td>7.33</td>\n",
       "      <td>7.58</td>\n",
       "      <td>7.75</td>\n",
       "      <td>8.75</td>\n",
       "    </tr>\n",
       "    <tr>\n",
       "      <th>body</th>\n",
       "      <td>1339.0</td>\n",
       "      <td>7.517498</td>\n",
       "      <td>0.370064</td>\n",
       "      <td>0.0</td>\n",
       "      <td>7.33</td>\n",
       "      <td>7.50</td>\n",
       "      <td>7.67</td>\n",
       "      <td>8.58</td>\n",
       "    </tr>\n",
       "    <tr>\n",
       "      <th>balance</th>\n",
       "      <td>1339.0</td>\n",
       "      <td>7.518013</td>\n",
       "      <td>0.408943</td>\n",
       "      <td>0.0</td>\n",
       "      <td>7.33</td>\n",
       "      <td>7.50</td>\n",
       "      <td>7.75</td>\n",
       "      <td>8.75</td>\n",
       "    </tr>\n",
       "    <tr>\n",
       "      <th>uniformity</th>\n",
       "      <td>1339.0</td>\n",
       "      <td>9.834877</td>\n",
       "      <td>0.554591</td>\n",
       "      <td>0.0</td>\n",
       "      <td>10.00</td>\n",
       "      <td>10.00</td>\n",
       "      <td>10.00</td>\n",
       "      <td>10.00</td>\n",
       "    </tr>\n",
       "    <tr>\n",
       "      <th>clean_cup</th>\n",
       "      <td>1339.0</td>\n",
       "      <td>9.835108</td>\n",
       "      <td>0.763946</td>\n",
       "      <td>0.0</td>\n",
       "      <td>10.00</td>\n",
       "      <td>10.00</td>\n",
       "      <td>10.00</td>\n",
       "      <td>10.00</td>\n",
       "    </tr>\n",
       "    <tr>\n",
       "      <th>sweetness</th>\n",
       "      <td>1339.0</td>\n",
       "      <td>9.856692</td>\n",
       "      <td>0.616102</td>\n",
       "      <td>0.0</td>\n",
       "      <td>10.00</td>\n",
       "      <td>10.00</td>\n",
       "      <td>10.00</td>\n",
       "      <td>10.00</td>\n",
       "    </tr>\n",
       "    <tr>\n",
       "      <th>total_cup_points</th>\n",
       "      <td>1339.0</td>\n",
       "      <td>82.089851</td>\n",
       "      <td>3.500575</td>\n",
       "      <td>0.0</td>\n",
       "      <td>81.08</td>\n",
       "      <td>82.50</td>\n",
       "      <td>83.67</td>\n",
       "      <td>90.58</td>\n",
       "    </tr>\n",
       "    <tr>\n",
       "      <th>moisture</th>\n",
       "      <td>1339.0</td>\n",
       "      <td>0.088379</td>\n",
       "      <td>0.048287</td>\n",
       "      <td>0.0</td>\n",
       "      <td>0.09</td>\n",
       "      <td>0.11</td>\n",
       "      <td>0.12</td>\n",
       "      <td>0.28</td>\n",
       "    </tr>\n",
       "  </tbody>\n",
       "</table>\n",
       "</div>"
      ],
      "text/plain": [
       "                   count       mean       std  min    25%    50%    75%    max\n",
       "aroma             1339.0   7.566706  0.377560  0.0   7.42   7.58   7.75   8.75\n",
       "flavor            1339.0   7.520426  0.398442  0.0   7.33   7.58   7.75   8.83\n",
       "aftertaste        1339.0   7.401083  0.404463  0.0   7.25   7.42   7.58   8.67\n",
       "acidity           1339.0   7.535706  0.379827  0.0   7.33   7.58   7.75   8.75\n",
       "body              1339.0   7.517498  0.370064  0.0   7.33   7.50   7.67   8.58\n",
       "balance           1339.0   7.518013  0.408943  0.0   7.33   7.50   7.75   8.75\n",
       "uniformity        1339.0   9.834877  0.554591  0.0  10.00  10.00  10.00  10.00\n",
       "clean_cup         1339.0   9.835108  0.763946  0.0  10.00  10.00  10.00  10.00\n",
       "sweetness         1339.0   9.856692  0.616102  0.0  10.00  10.00  10.00  10.00\n",
       "total_cup_points  1339.0  82.089851  3.500575  0.0  81.08  82.50  83.67  90.58\n",
       "moisture          1339.0   0.088379  0.048287  0.0   0.09   0.11   0.12   0.28"
      ]
     },
     "execution_count": 251,
     "metadata": {},
     "output_type": "execute_result"
    }
   ],
   "source": [
    "# Selection of columns to be analyzed.\n",
    "columns = [\n",
    "    'aroma', 'flavor', 'aftertaste', 'acidity',\n",
    "    'body', 'balance', 'uniformity', 'clean_cup',\n",
    "    'sweetness', 'total_cup_points', 'moisture'\n",
    "]\n",
    "\n",
    "# Display basic static metrics for selected columns.\n",
    "coffe_data[columns].describe().T"
   ]
  },
  {
   "cell_type": "code",
   "execution_count": 252,
   "id": "d08ee355-dcbb-4657-a814-cdcfbd455c42",
   "metadata": {},
   "outputs": [
    {
     "data": {
      "image/png": "[encoded data removed]",
      "text/plain": [
       "<Figure size 2000x1500 with 11 Axes>"
      ]
     },
     "metadata": {},
     "output_type": "display_data"
    }
   ],
   "source": [
    "# Creating a figure and subplots.\n",
    "fig, axes = plt.subplots(nrows=3, ncols=4, figsize=(20, 15))\n",
    "# Create histograms and add axis names.\n",
    "for ax, col in zip(axes.flat, columns):\n",
    "    ax.hist(coffe_data[col], bins=25)\n",
    "    ax.set_title(col)\n",
    "    ax.set_xlabel(\"Points\")\n",
    "    ax.set_ylabel(\"Frequency\")\n",
    "# Remove empty subplots.\n",
    "for i in range(len(columns), len(axes.flat)):\n",
    "    fig.delaxes(axes.flat[i])\n",
    "# Display graphs.\n",
    "plt.tight_layout()\n",
    "plt.show()"
   ]
  },
  {
   "cell_type": "code",
   "execution_count": 256,
   "id": "342787de-f483-4ca8-8e0f-c51c8441e6cd",
   "metadata": {},
   "outputs": [
    {
     "data": {
      "image/png": "[encoded data removed]",
      "text/plain": [
       "<Figure size 2000x1500 with 11 Axes>"
      ]
     },
     "metadata": {},
     "output_type": "display_data"
    }
   ],
   "source": [
    "# Creating a figure and subplots.\n",
    "fig, axes = plt.subplots(nrows=3, ncols=4, figsize=(20, 15))\n",
    "# Create boxplots and add axis names.\n",
    "for ax, col in zip(axes.flat, columns):\n",
    "    coffe_data.boxplot(column=col, ax=ax)\n",
    "    ax.set_title(col)\n",
    "    ax.set_ylabel(\"Points\")\n",
    "    ax.set_title(col)\n",
    "# Remove empty subplots.\n",
    "for i in range(len(columns), len(axes.flat)):\n",
    "    fig.delaxes(axes.flat[i])\n",
    "# Display graphs.\n",
    "plt.tight_layout()\n",
    "plt.show()"
   ]
  },
  {
   "cell_type": "markdown",
   "id": "873a046b-89c6-4e3b-b73e-63dbdedce803",
   "metadata": {},
   "source": [
    "For all columns, the minimum indicator is 0, and the maximum, except for two, is between 8 and 10. For total_cup_points it is slightly above 90, and for moisture 0.28. For uniformity, clean_cup and sweetness, the median is on the small side, and the distribution has a weak negative asymmetry. For moisture, there is a bimodal distribution with peaks at 0.11 and 0. The other columns have a median of about 80% in the high end of the range of scores."
   ]
  },
  {
   "cell_type": "markdown",
   "id": "92054218-978d-48c6-b7aa-36226837354c",
   "metadata": {},
   "source": [
    "### Problem 10. High-level errors (1 point)\n",
    "Check the countries against region names, altitudes, and companies. Are there any discrepancies (e.g. human errors, like a region not matching the country)? Take a look at the (cleaned) altitudes; there has been a lot of preprocessing done to them. Was it done correctly?"
   ]
  },
  {
   "cell_type": "code",
   "execution_count": 278,
   "id": "73482eca-8a22-4d73-8fe2-c870c5276fee",
   "metadata": {},
   "outputs": [
    {
     "data": {
      "text/plain": [
       "['region: antioquia, countries: United States, Colombia',\n",
       " 'region: jalapa, countries: Guatemala, Nicaragua',\n",
       " 'region: san marcos, countries: Guatemala, Honduras',\n",
       " 'region: menglian, countries: China, Mexico',\n",
       " 'region: occidental, countries: Honduras, Costa Rica',\n",
       " 'region: chikmagalur, countries: India, United States']"
      ]
     },
     "execution_count": 278,
     "metadata": {},
     "output_type": "execute_result"
    }
   ],
   "source": [
    "# Check for cases where a region is listed in more than one country.\n",
    "[\n",
    "    f\"region: {region}, countries: {', '.join(coffe_data[coffe_data['region'] == region]['country_of_origin'].unique())}\"\n",
    "    for region in coffe_data.groupby('region').filter(lambda x: x['country_of_origin'].nunique() > 1)['region'].unique()\n",
    "]\n"
   ]
  },
  {
   "cell_type": "markdown",
   "id": "3583b3c5-dbe9-4864-a6f6-89d532fc628e",
   "metadata": {
    "scrolled": true
   },
   "source": [
    "As can be seen six regions are indicated in two countries. For antioquia, I found no information that it has a US region, so most likely this region cannot be in the US. For jalapa there are in Guatemala and in Nicaragua. For san marcos there are in Guatemala and in Honduras. For menglian is a region in China. For occidental it is in Costa Rica. About chikmagalur is in India."
   ]
  },
  {
   "cell_type": "code",
   "execution_count": 276,
   "id": "0d46cad3-36b7-494c-9f0b-73ab7f69a3a8",
   "metadata": {},
   "outputs": [
    {
     "data": {
      "text/plain": [
       "['Регион: North America, Държави: USA, Canada, Mexico',\n",
       " 'Регион: Europe, Държави: USA, Mexico, Canada']"
      ]
     },
     "execution_count": 276,
     "metadata": {},
     "output_type": "execute_result"
    }
   ],
   "source": [
    "data = {\n",
    "    'country_of_origin': ['USA', 'Canada', 'Mexico', 'USA', 'Canada', 'Brazil', 'USA', 'Mexico', 'Canada'],\n",
    "    'region': ['North America', 'North America', 'North America', 'North America', 'North America',\n",
    "               'South America', 'Europe', 'Europe', 'Europe']\n",
    "}\n",
    "\n",
    "# Създаване на DataFrame\n",
    "df = pd.DataFrame(data)\n",
    "\n",
    "# Визуализация на регионите с повече от една държава и техните държави\n",
    "[\n",
    "    f\"Регион: {region}, Държави: {', '.join(df[df['region'] == region]['country_of_origin'].unique())}\"\n",
    "    for region in df.groupby('region').filter(lambda x: x['country_of_origin'].nunique() > 1)['region'].unique()\n",
    "]"
   ]
  },
  {
   "cell_type": "code",
   "execution_count": 288,
   "id": "4f284d15-85ca-42f3-a504-85c27df54497",
   "metadata": {},
   "outputs": [
    {
     "data": {
      "text/html": [
       "<div>\n",
       "<style scoped>\n",
       "    .dataframe tbody tr th:only-of-type {\n",
       "        vertical-align: middle;\n",
       "    }\n",
       "\n",
       "    .dataframe tbody tr th {\n",
       "        vertical-align: top;\n",
       "    }\n",
       "\n",
       "    .dataframe thead th {\n",
       "        text-align: right;\n",
       "    }\n",
       "</style>\n",
       "<table border=\"1\" class=\"dataframe\">\n",
       "  <thead>\n",
       "    <tr style=\"text-align: right;\">\n",
       "      <th></th>\n",
       "      <th>count</th>\n",
       "      <th>mean</th>\n",
       "      <th>std</th>\n",
       "      <th>min</th>\n",
       "      <th>25%</th>\n",
       "      <th>50%</th>\n",
       "      <th>75%</th>\n",
       "      <th>max</th>\n",
       "    </tr>\n",
       "  </thead>\n",
       "  <tbody>\n",
       "    <tr>\n",
       "      <th>altitude_low_meters</th>\n",
       "      <td>1109.0</td>\n",
       "      <td>1750.713315</td>\n",
       "      <td>8669.440545</td>\n",
       "      <td>1.0</td>\n",
       "      <td>1100.0</td>\n",
       "      <td>1310.64</td>\n",
       "      <td>1600.0</td>\n",
       "      <td>190164.0</td>\n",
       "    </tr>\n",
       "    <tr>\n",
       "      <th>altitude_high_meters</th>\n",
       "      <td>1109.0</td>\n",
       "      <td>1799.347775</td>\n",
       "      <td>8668.805771</td>\n",
       "      <td>1.0</td>\n",
       "      <td>1100.0</td>\n",
       "      <td>1350.00</td>\n",
       "      <td>1650.0</td>\n",
       "      <td>190164.0</td>\n",
       "    </tr>\n",
       "    <tr>\n",
       "      <th>altitude_mean_meters</th>\n",
       "      <td>1109.0</td>\n",
       "      <td>1775.030545</td>\n",
       "      <td>8668.626080</td>\n",
       "      <td>1.0</td>\n",
       "      <td>1100.0</td>\n",
       "      <td>1310.64</td>\n",
       "      <td>1600.0</td>\n",
       "      <td>190164.0</td>\n",
       "    </tr>\n",
       "  </tbody>\n",
       "</table>\n",
       "</div>"
      ],
      "text/plain": [
       "                       count         mean          std  min     25%      50%  \\\n",
       "altitude_low_meters   1109.0  1750.713315  8669.440545  1.0  1100.0  1310.64   \n",
       "altitude_high_meters  1109.0  1799.347775  8668.805771  1.0  1100.0  1350.00   \n",
       "altitude_mean_meters  1109.0  1775.030545  8668.626080  1.0  1100.0  1310.64   \n",
       "\n",
       "                         75%       max  \n",
       "altitude_low_meters   1600.0  190164.0  \n",
       "altitude_high_meters  1650.0  190164.0  \n",
       "altitude_mean_meters  1600.0  190164.0  "
      ]
     },
     "execution_count": 288,
     "metadata": {},
     "output_type": "execute_result"
    }
   ],
   "source": [
    "# Selection of columns to be analyzed.\n",
    "describe_altitude_columns = [\n",
    "    'altitude_low_meters', 'altitude_high_meters', 'altitude_mean_meters'\n",
    "]\n",
    "# Display basic static metrics for selected columns.\n",
    "coffe_data[describe_altitude_columns].describe().T"
   ]
  },
  {
   "cell_type": "code",
   "execution_count": 298,
   "id": "8b19d372-ef56-418a-84b6-ba5a0bc559dd",
   "metadata": {},
   "outputs": [
    {
     "data": {
      "image/png": "[encoded data removed]",
      "text/plain": [
       "<Figure size 2000x1500 with 3 Axes>"
      ]
     },
     "metadata": {},
     "output_type": "display_data"
    }
   ],
   "source": [
    "# Creating a figure and subplots.\n",
    "fig, axes = plt.subplots(nrows=3, ncols=4, figsize=(20, 15))\n",
    "# Create boxplots and add axis names.\n",
    "for ax, col in zip(axes.flat, describe_altitude_columns):\n",
    "    coffe_data.boxplot(column=col, ax=ax)\n",
    "    ax.set_title(col)\n",
    "    ax.set_ylabel(\"Meters\")\n",
    "    ax.set_title(col)\n",
    "# Remove empty subplots.\n",
    "for i in range(len(describe_altitude_columns), len(axes.flat)):\n",
    "    fig.delaxes(axes.flat[i])\n",
    "# Display graphs.\n",
    "plt.tight_layout()\n",
    "plt.show()"
   ]
  },
  {
   "cell_type": "markdown",
   "id": "87896495-520e-421e-b33e-ddcb1a166e3c",
   "metadata": {},
   "source": [
    "As can be seen there are values ​​that far exceed the highest point on the earth's surface relative to sea level. Since these values ​​cannot possibly be real, they will be removed. One meter above sea level also seems unrealistic, but since it is theoretically possible we will leave it at that."
   ]
  },
  {
   "cell_type": "code",
   "execution_count": 296,
   "id": "b8dcaa65-1f8e-4df5-a7c5-5563d851dac3",
   "metadata": {},
   "outputs": [],
   "source": [
    "# method to remove unrealistically high values.\n",
    "def remove_top_two(series):\n",
    "    return series.sort_values(ascending=False).iloc[4:]\n",
    "\n",
    "table_altitude = pd.concat([remove_top_two(coffe_data[col]).reset_index(drop=True) for col in describe_altitude_columns], axis=1)\n",
    "table_altitude.columns = describe_altitude_columns"
   ]
  },
  {
   "cell_type": "code",
   "execution_count": 297,
   "id": "a64f8860-6a7b-4ff2-b497-5080faa79b15",
   "metadata": {},
   "outputs": [
    {
     "data": {
      "text/html": [
       "<div>\n",
       "<style scoped>\n",
       "    .dataframe tbody tr th:only-of-type {\n",
       "        vertical-align: middle;\n",
       "    }\n",
       "\n",
       "    .dataframe tbody tr th {\n",
       "        vertical-align: top;\n",
       "    }\n",
       "\n",
       "    .dataframe thead th {\n",
       "        text-align: right;\n",
       "    }\n",
       "</style>\n",
       "<table border=\"1\" class=\"dataframe\">\n",
       "  <thead>\n",
       "    <tr style=\"text-align: right;\">\n",
       "      <th></th>\n",
       "      <th>count</th>\n",
       "      <th>mean</th>\n",
       "      <th>std</th>\n",
       "      <th>min</th>\n",
       "      <th>25%</th>\n",
       "      <th>50%</th>\n",
       "      <th>75%</th>\n",
       "      <th>max</th>\n",
       "    </tr>\n",
       "  </thead>\n",
       "  <tbody>\n",
       "    <tr>\n",
       "      <th>altitude_low_meters</th>\n",
       "      <td>1105.0</td>\n",
       "      <td>1303.360241</td>\n",
       "      <td>478.395985</td>\n",
       "      <td>1.0</td>\n",
       "      <td>1100.0</td>\n",
       "      <td>1310.64</td>\n",
       "      <td>1580.0</td>\n",
       "      <td>4287.0</td>\n",
       "    </tr>\n",
       "    <tr>\n",
       "      <th>altitude_high_meters</th>\n",
       "      <td>1105.0</td>\n",
       "      <td>1352.170753</td>\n",
       "      <td>511.389290</td>\n",
       "      <td>1.0</td>\n",
       "      <td>1100.0</td>\n",
       "      <td>1350.00</td>\n",
       "      <td>1650.0</td>\n",
       "      <td>5900.0</td>\n",
       "    </tr>\n",
       "    <tr>\n",
       "      <th>altitude_mean_meters</th>\n",
       "      <td>1105.0</td>\n",
       "      <td>1327.765497</td>\n",
       "      <td>486.357350</td>\n",
       "      <td>1.0</td>\n",
       "      <td>1100.0</td>\n",
       "      <td>1310.64</td>\n",
       "      <td>1600.0</td>\n",
       "      <td>4287.0</td>\n",
       "    </tr>\n",
       "  </tbody>\n",
       "</table>\n",
       "</div>"
      ],
      "text/plain": [
       "                       count         mean         std  min     25%      50%  \\\n",
       "altitude_low_meters   1105.0  1303.360241  478.395985  1.0  1100.0  1310.64   \n",
       "altitude_high_meters  1105.0  1352.170753  511.389290  1.0  1100.0  1350.00   \n",
       "altitude_mean_meters  1105.0  1327.765497  486.357350  1.0  1100.0  1310.64   \n",
       "\n",
       "                         75%     max  \n",
       "altitude_low_meters   1580.0  4287.0  \n",
       "altitude_high_meters  1650.0  5900.0  \n",
       "altitude_mean_meters  1600.0  4287.0  "
      ]
     },
     "execution_count": 297,
     "metadata": {},
     "output_type": "execute_result"
    }
   ],
   "source": [
    "# # Display basic static metrics for selected columns.\n",
    "table_altitude.describe().T"
   ]
  },
  {
   "cell_type": "code",
   "execution_count": 300,
   "id": "3971e0f9-0fe2-48d9-97ad-086b1d3e3987",
   "metadata": {},
   "outputs": [
    {
     "data": {
      "image/png": "[encoded data removed]",
      "text/plain": [
       "<Figure size 2000x1500 with 3 Axes>"
      ]
     },
     "metadata": {},
     "output_type": "display_data"
    }
   ],
   "source": [
    "# Creating a figure and subplots with the cleaned height values.\n",
    "fig, axes = plt.subplots(nrows=3, ncols=4, figsize=(20, 15))\n",
    "# Create boxplots and add axis names.\n",
    "for ax, col in zip(axes.flat, table_altitude.columns):\n",
    "    table_altitude.boxplot(column=col, ax=ax)\n",
    "    ax.set_title(col)\n",
    "    ax.set_ylabel(\"Meters\")\n",
    "    ax.set_title(col)\n",
    "# Remove empty subplots.\n",
    "for i in range(len(table_altitude.columns), len(axes.flat)):\n",
    "    fig.delaxes(axes.flat[i])\n",
    "# Display graphs.\n",
    "plt.tight_layout()\n",
    "plt.show()"
   ]
  },
  {
   "cell_type": "markdown",
   "id": "3c3b5118-9f8e-45c2-a200-1be89fa4b3bf",
   "metadata": {},
   "source": [
    "### * Problem 11. Clean and explore at will\n",
    "The dataset claimed to be clean, but we were able to discover a lot of things to fix and do better.\n",
    "\n",
    "Play around with the data as much as you wish, and if you find variables to tidy up and clean - by all means, do that!"
   ]
  },
  {
   "cell_type": "code",
   "execution_count": null,
   "id": "928732cf-7ef4-471a-9818-139dd519eb45",
   "metadata": {},
   "outputs": [],
   "source": []
  }
 ],
 "metadata": {
  "kernelspec": {
   "display_name": "Python 3 (ipykernel)",
   "language": "python",
   "name": "python3"
  },
  "language_info": {
   "codemirror_mode": {
    "name": "ipython",
    "version": 3
   },
   "file_extension": ".py",
   "mimetype": "text/x-python",
   "name": "python",
   "nbconvert_exporter": "python",
   "pygments_lexer": "ipython3",
   "version": "3.11.7"
  }
 },
 "nbformat": 4,
 "nbformat_minor": 5
}
