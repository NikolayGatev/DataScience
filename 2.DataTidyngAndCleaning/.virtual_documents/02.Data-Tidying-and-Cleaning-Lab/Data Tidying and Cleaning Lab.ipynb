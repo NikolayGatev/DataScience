%matplotlib inline
import numpy as np
import pandas as pd
import matplotlib.pyplot as plt

import re











# Read the file and write the data to a variable
coffe_data = pd.read_csv("data/merged_data_cleaned.csv")





# View the columns` names
coffe_data.columns 


# View the columns` types
coffe_data.dtypes


# View count of rows and columns
coffe_data.shape








# changing all letters to lowercase and replacing "." with "_"
coffe_data.columns = coffe_data.columns.str.lower().str.replace(".", "_")


coffe_data.columns





# checking the values ​​in a column "bag_weight"
coffe_data["bag_weight"].unique()


# define a function to convert all values ​​to kilograms and remove the letters
def proceses_bag_weight(bag_weight):     
    # when it is collograms
    if bag_weight[-3:] == " kg":
        return bag_weight[:-3]    
    # when it is pounds
    elif bag_weight[-4:] == " lbs": 
        return round(float(bag_weight[:-4]) * 0.45359237)   
    # when the unit of measurement is not clear 
    elif bag_weight[-7:] == " kg,lbs":
        return bag_weight[:-7]   
    # when is only number 
    else:
        return bag_weight


# converting the values ​​in a column "bag_weight" to kilograms and discarding the difference symbols from a number
coffe_data.bag_weight = coffe_data.bag_weight.apply(proceses_bag_weight)


coffe_data.bag_weight = coffe_data.bag_weight.astype(int)


# checking the data type of a column "bag_weight"
coffe_data["bag_weight"].dtypes





coffe_data["harvest_year"].value_counts()





# remove all characters except the numbers and the spaces between them
coffe_data["harvest_year"] = coffe_data["harvest_year"].str.extract(r'([0-9-\/]*)')


# function to return the data in YYYY format
def cleaning_harvest_year(harvest_year):
    clean_str = str(harvest_year)
    four_digits = r'\d{4}'
    two_digits = r'\d{2}'
    #  taking the last year where it is in YYYY format
    if re.search(four_digits, clean_str[-4:]):
        return clean_str[-4:]
    # converting the year to YYYY format when given in YY format
    elif re.search(two_digits, clean_str[-2:]):
        return "20" + clean_str[-2:]
    # setting a NaN value where no year is specified
    else:
        return np.nan


# transform a column "harvest_year"
coffe_data.harvest_year = coffe_data.harvest_year.apply(cleaning_harvest_year)


# check the data in a column "grading_date"
coffe_data["grading_date"]


# method that converts dates to yyyy-ММ-dd format
def clean_and_convert(date_str):
    clean_date_str = re.sub(r'(\d)(st|nd|rd|th)', r'\1', date_str)
    return pd.to_datetime(clean_date_str).strftime('%Y-%m-%d')


#converting dates from a column "grading_date" to yyyy-ММ-dd format
coffe_data["grading_date"] = [clean_and_convert(date) for date in coffe_data["grading_date"]]


# cast the data in a column "grading_date" to a type datetime
coffe_data["grading_date"] = pd.to_datetime(coffe_data["grading_date"])


# checking for null values
coffe_data["grading_date"].isnull().any()


#converting dates from a column "expiration" to yyyy-ММ-dd format
coffe_data.expiration = [clean_and_convert(date) for date in coffe_data.expiration]


# cast the data in a column "expiration" to a type datetime
coffe_data.expiration = pd.to_datetime(coffe_data.expiration)


# checking for null values
coffe_data.expiration.isnull().any()





# checking all unique countries of origin
coffe_data.country_of_origin.value_counts(dropna = False)


# checking the data for this coffee which has no country of origin
coffe_data[coffe_data.country_of_origin.isnull()]








# checking for null values ​​of 'owner'
coffe_data[coffe_data[['owner']].isnull().any(axis=1)][['owner', 'owner_1']]


# checking for null values ​​of 'owner_1'
coffe_data[coffe_data[['owner_1']].isnull().any(axis=1)][['owner', 'owner_1']]


# checking for distinct values ​​in 'owner' and 'owner_1' columns after strings are made lowercase
coffe_data[coffe_data['owner'].str.lower() != coffe_data['owner_1'].str.lower()][['owner', 'owner_1']]





# drop column "owner_1"
coffe_data = coffe_data.drop(columns = "owner_1")


# checking for distinct values ​​in 'owner' and 'producer' columns after strings are made lowercase
coffe_data[coffe_data['owner'].str.lower() == coffe_data['producer'].str.lower()][['owner', 'producer']].shape[0]








# Creating a table that shows in which country how many coffees of the corresponding color there are. 
table_countries_color = coffe_data.pivot_table(index = "country_of_origin", columns = "color", aggfunc='size', fill_value = 0)


# 
table_countries_color





# Method for handling country names
def clean_countries(country_of_origin):
    if "United States" in str(country_of_origin):
        return "US"
    elif "Tanzania" in str(country_of_origin):
        return "Tanzania"
    elif "Cote d?Ivoire" in str(country_of_origin):
        return "Ivory Coast"
    elif "Taiwan" in str(country_of_origin):
        return "China"
    elif "Myanmar" in str(country_of_origin):
        return "Burma (Myanmar)"
    else:
        return country_of_origin


# Create a new column for merge purposes
coffe_data["clean_country"] = coffe_data.country_of_origin.apply(clean_countries)


# Create a new table with information about continents
continents_data = pd.read_csv("data/Countries-Continents.csv")


# Change column names
continents_data.columns = ["continents", "clean_country"]


continents_data


# Add a column in table "coffe_data" with contentnets to a table
coffe_data = coffe_data.merge(continents_data, on = "clean_country", how = "left")


# Checking if a continent is filled for each country. There is one entry without a country, so it is also without a continent.
coffe_data[coffe_data[["continents"]].isnull().any(axis = 1)]


# Creating a table that shows in which continent how many coffees of the corresponding color there are.
table_continents_colors = coffe_data.pivot_table(index = "continents", columns = "color", aggfunc='size', fill_value = 0)











contry_region = coffe_data.groupby("country_of_origin")["region"].unique().reset_index()


contry_region["region"] = contry_region["region"].apply(lambda x: ', '.join(x))






