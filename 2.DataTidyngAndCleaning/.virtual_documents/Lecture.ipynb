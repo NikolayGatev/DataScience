%matplotlib inline


import numpy as np
import pandas as pd
import matplotlib.pyplot as plt





rew = pd.read_csv("02.Data-Tidying-and-Cleaning-Materials/pew.csv")


rew


rew_tidy = rew.melt(id_vars=["religion"], var_name = "income", value_name = "frequence") # melt обединява редове в колони


pd.pi() # обратна операция на melt, пренарежда колони


rew_tidy


rew.columns, rew_tidy.columns


rew_tidy


rew_tidy.dtypes


rew_tidy.religion = rew_tidy.religion.astype("category")
rew_tidy.income = rew_tidy.religion.astype("category") # промяна на типа данни в колоната



rew_tidy.dtypes


tb = pd.read_csv("02.Data-Tidying-and-Cleaning-Materials/tb.csv")


tb





tb.shape


tb.dtypes # NaN са валитни float стойности


tb[(tb.year == 1989) & (tb.iso2 == "AD")].values # това е начин за филтриране


tb.describe().T # в тези статистики NaN не участва


tb_tidy = tb.melt(id_vars = ["iso2", "year"], var_name = "sex_and_age", value_name = "cases") # id_vars - указваме кои колони да запазим


tb_tidy


tb_tidy.head()


tb_tidy.sex_and_age.str.slice(0, 1).unique() # str - дава достъп до операции за работа със стрингове, а dt - с дати


tb_tidy.sex_and_age.str.slice(1).unique()


tb_tidy["gender"] = tb_tidy.sex_and_age.str.slice(0, 1) # създаване на нова колона


tb_tidy["age_group"] = tb_tidy.sex_and_age.str.slice(1) # създаване на нова колона


tb_tidy = tb_tidy.drop(columns = ["sex_and_age"]) # премахване на колона


tb_tidy


tb_tidy.describe().T


tb_tidy_no_missing = tb_tidy.dropna() # dropna премахва всички NaN


tb_tidy_no_missing


tb_tidy_no_missing.cases.mean()


tb_tidy_no_missing[tb_tidy_no_missing.iso2 == "BG"] # филтриране


tb_tidy_no_missing[tb_tidy_no_missing.iso2 == "BG"].cases.mean # средено аритметично при филтър


tb_tidy_no_missing.age_group.str.len().value_counts() # groupBy на колоната age_group по дължина на стринга в клиетките


tb_tidy_no_missing.age_group.str.slice(0, 2) # slice отрязва стринга в показания диапазон


tb_tidy_no_missing.age_group.apply(lambda x: x[0]) # apply е начин да се проложи функция върху всеки един ред ако се подаде таблица или ако се подаде колона - за всяка една стойност от нея


def proceses_age_group(age_group):
    ages = {"04": "0-4", "65": "65+", "u" : "unknown"}
    if age_group in ages:
        return ages[age_group]
    else:
        # Put a dash before the last two digits
        return f"{age_group[:-2]}-{age_group[-2:]}"


tb_tidy_no_missing.age_group = tb_tidy_no_missing.age_group.apply(proceses_age_group) # променяме age_group


tb_tidy_no_missing.age_group.unique()


tb_tidy_no_missing


tb_tidy_no_missing.gender = tb_tidy_no_missing.gender.astype("category")
tb_tidy_no_missing.age_group = tb_tidy_no_missing.age_group.astype("category") # форматиране като тип категория


tb_tidy_no_missing


tb_tidy_no_missing = tb_tidy_no_missing[["iso2", "year", "gender", "age_group", "cases"]] # пренареждане на колонте


tb_tidy_no_missing = tb_tidy_no_missing.sort_values(["iso2", "year"]) # сортиране индексите се разбъркват


tb_tidy_no_missing


tb_tidy_no_missing = tb_tidy_no_missing.reset_index(drop = True) # създава на нов индекс и премахване на стария


tb_tidy_no_missing.cases = tb_tidy_no_missing.cases.astype(int) # променяне типа данни на cases


tb_tidy_no_missing


tb_tidy_no_missing.to_csv("02.Data-Tidying-and-Cleaning-Materials/tb_tidy.csv") # записване на данните във файл


weather_data = pd.read_csv("02.Data-Tidying-and-Cleaning-Materials/weather.csv")


weather_data


weather_data_tidy = weather_data.melt(id_vars = ["id", "year", "month", "element"], var_name = "day")


weather_data_tidy


weather_data_tidy.day.unique()


weather_data_tidy.day = weather_data_tidy.day.str.slice(1).astype(int)


weather_data_tidy


weather_data_tidy = weather_data_tidy.dropna()


weather_data_tidy


weather_data_tidy = weather_data_tidy.pivot_table(
    index = ["id", "year", "month", "day"]
    , columns = "element"
    , values = "value") 
# създаване на колони от редове в индекс са колоните, които запазваме, в columns колоните които ще разделяме и value стойностите


weather_data_tidy = weather_data_tidy.reset_index()


weather_data_tidy["date"] = weather_data_tidy.apply(lambda x: f"{x['year']}-{x['month']:02}-{x['day']:02}", axis = 1)


weather_data_tidy


weather_data_tidy = weather_data_tidy.drop(columns = ["year", "month", "day"])


weather_data_tidy.date = pd.to_datetime(weather_data_tidy["date"])


weather_data_tidy.dtypes


billboard_data = pd.read_csv("02.Data-Tidying-and-Cleaning-Materials/billboard.csv")


billboard_data


billboard_data[billboard_data.wk65.notna()] # notna() показва само стойностите с данни


billboard_data[billboard_data.columns[-15:]].describe().T


billboard_data = billboard_data.melt(id_vars = ["year", "artist", "track", "time", "date.entered"], var_name = "week", value_name ="position")


billboard_data = billboard_data.dropna()


billboard_data


billboard_data.week = billboard_data.week.str.slice(2).astype(int)


billboard_data.dtypes


billboard_data.position = billboard_data.position.astype(int)


billboard_data.dtypes


billboard_data["date.entered"] = pd.to_datetime(billboard_data["date.entered"])


billboard_data.dtypes


pd.Timedelta(1, "w") # функция за добавяне на време към datetime format


intervals = billboard_data.week.apply(lambda x: pd.Timedelta(x - 1, "w"))


billboard_data["date"] = billboard_data["date.entered"] + intervals


billboard_data


billboard_data[billboard_data.track == "Higher"] # филтер по колона track


billboard_data = billboard_data.drop(columns = ["date.entered", "week"])


billboard_data


billboard_data = billboard_data[["year", "artist", "track", "time", "date", "position"]]


billboard_data = billboard_data.reset_index()


billboard_data


billboard_data[billboard_data.date.dt.year == 2001] # филтер само по година от date


billboard_data.groupby(["track", "artist"]).value_counts()


billboard_data[billboard_data.position == 1].artist.unique() # взема уникалните стойностти на артист след филтъра


billboard_data[billboard_data.position == 1].artist.value_counts() # показва боря първи позиции по артист след филтъра





weather_data_clieaning  = pd.read_csv("https://raw.githubusercontent.com/synesthesiam/blog/master/posts/data/weather_year.csv")


weather_data_clieaning 


weather_data_clieaning.columns


weather_data_clieaning.dtypes


weather_data_clieaning.columns = ["date", "max_temp", "mean_temp", "min_temp", "max_dew", "mean_dew", "min_dew", "max_humidity"
, "mean_humidity", "min_humidity", "max_pressure", "mean_pressure", "min_pressure", "max_visibility", "mean_visibility"
, "min_visibility", "max_wind", "mean_wind", "max_gusts", "precipitation", "cloud_cover", "events", "wind_dir"]



weather_data_clieaning


weather_data_clieaning.date = pd.to_datetime(weather_data_clieaning.date)


weather_data_clieaning.date


weather_data_clieaning.precipitation.unique()


weather_data_clieaning.loc[weather_data_clieaning.precipitation == "T", "precipitation"] = 1e-6 # loc метод за записване на нова стойност, след запетята указваме в коя колона да заменим


weather_data_clieaning.precipitation.unique()


weather_data_clieaning.precipitation = weather_data_clieaning.precipitation.astype(float)


weather_data_clieaning


weather_data_clieaning.events.unique()


weather_data_clieaning.events.value_counts(dropna = False) # value_counts изпуска NaN затова се добавя dropna = False


weather_data_clieaning.max_temp.hist() # хистограма не в matplotlib


plt.hist(weather_data_clieaning.max_temp, bins = 25)
plt.show()


plt.hist(weather_data_clieaning.max_temp, bins = 25)
plt.hist(weather_data_clieaning[weather_data_clieaning.date.dt.month == 6].max_temp, bins = 25)
plt.hist(weather_data_clieaning[weather_data_clieaning.date.dt.month == 12].max_temp, bins = 25)
plt.show()


weather_data_clieaning = weather_data_clieaning.set_index("date") # задва се някоя от колоните за индекс


weather_data_clieaning.resample(pd.Timedelta(3, "day")).min_temp.mean() # resample функция за работта с дати, групира по дати, които са последователни, катп прескача групираните дати - двата метода дават средната промяна на по три дни


weather_data_clieaning.rolling(pd.Timedelta(3, "day")).min_temp.mean() # resample функция за работта с дати, групира по дати, които са последователни, като непрескача групираните дати - двата метода дават средната промяна на по три дни






